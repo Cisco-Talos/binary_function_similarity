{
 "cells": [
  {
   "cell_type": "code",
   "execution_count": 1,
   "metadata": {},
   "outputs": [],
   "source": [
    "##############################################################################\n",
    "#                                                                            #\n",
    "#  Code for the USENIX Security '22 paper:                                   #\n",
    "#  How Machine Learning Is Solving the Binary Function Similarity Problem.   #\n",
    "#                                                                            #\n",
    "#  MIT License                                                               #\n",
    "#                                                                            #\n",
    "#  Copyright (c) 2019-2022 Cisco Talos                                       #\n",
    "#                                                                            #\n",
    "#  Permission is hereby granted, free of charge, to any person obtaining     #\n",
    "#  a copy of this software and associated documentation files (the           #\n",
    "#  \"Software\"), to deal in the Software without restriction, including       #\n",
    "#  without limitation the rights to use, copy, modify, merge, publish,       #\n",
    "#  distribute, sublicense, and/or sell copies of the Software, and to        #\n",
    "#  permit persons to whom the Software is furnished to do so, subject to     #\n",
    "#  the following conditions:                                                 #\n",
    "#                                                                            #\n",
    "#  The above copyright notice and this permission notice shall be            #\n",
    "#  included in all copies or substantial portions of the Software.           #\n",
    "#                                                                            #\n",
    "#  THE SOFTWARE IS PROVIDED \"AS IS\", WITHOUT WARRANTY OF ANY KIND,           #\n",
    "#  EXPRESS OR IMPLIED, INCLUDING BUT NOT LIMITED TO THE WARRANTIES OF        #\n",
    "#  MERCHANTABILITY, FITNESS FOR A PARTICULAR PURPOSE AND                     #\n",
    "#  NONINFRINGEMENT. IN NO EVENT SHALL THE AUTHORS OR COPYRIGHT HOLDERS BE    #\n",
    "#  LIABLE FOR ANY CLAIM, DAMAGES OR OTHER LIABILITY, WHETHER IN AN ACTION    #\n",
    "#  OF CONTRACT, TORT OR OTHERWISE, ARISING FROM, OUT OF OR IN CONNECTION     #\n",
    "#  WITH THE SOFTWARE OR THE USE OR OTHER DEALINGS IN THE SOFTWARE.           #\n",
    "#                                                                            #\n",
    "#  Dataset-1-CodeCMR example                                                 #\n",
    "#                                                                            #\n",
    "##############################################################################"
   ]
  },
  {
   "cell_type": "code",
   "execution_count": 2,
   "metadata": {},
   "outputs": [],
   "source": [
    "## Requirements\n",
    "# networkx==2.8\n",
    "# pandas==1.4.2"
   ]
  },
  {
   "cell_type": "code",
   "execution_count": 3,
   "metadata": {},
   "outputs": [],
   "source": [
    "import pandas as pd\n",
    "import pickle\n",
    "import networkx as nx"
   ]
  },
  {
   "cell_type": "code",
   "execution_count": 4,
   "metadata": {},
   "outputs": [],
   "source": [
    "# From the validation dataset\n",
    "\n",
    "# positive pairs\n",
    "df_pos_val = pd.read_csv(\"pairs/validation/pos_validation_Dataset-1-CodeCMR.csv\", index_col=0)\n",
    "\n",
    "# negative pairs\n",
    "df_neg_val = pd.read_csv(\"pairs/validation/neg_validation_Dataset-1-CodeCMR.csv\", index_col=0)"
   ]
  },
  {
   "cell_type": "code",
   "execution_count": 5,
   "metadata": {
    "scrolled": false
   },
   "outputs": [
    {
     "name": "stdout",
     "output_type": "stream",
     "text": [
      "Positive pair\n",
      "[[4, 74, 73, 74], [4, 74, 73, 74]]\n",
      "[[4, 74, 73, 74], [4, 74, 73, 74]]\n",
      "\n",
      "\n",
      "Negative pair\n",
      "[[4, 74, 73, 74], [4, 74, 73, 74]]\n",
      "[[4, 74, 73, 74], [51, 74, 75, 80]]\n"
     ]
    }
   ],
   "source": [
    "idx = 3\n",
    "\n",
    "# positive pair\n",
    "pickle_1 = df_pos_val.iloc[idx]['pickle_path_1']\n",
    "func_name_1 = df_pos_val.iloc[idx]['func_name_1']\n",
    "\n",
    "pickle_2 = df_pos_val.iloc[idx]['pickle_path_2']\n",
    "func_name_2 = df_pos_val.iloc[idx]['func_name_2']\n",
    "\n",
    "print(\"Positive pair\")\n",
    "G_pos1 = pickle.load(open(pickle_1, 'rb'))[func_name_1]\n",
    "G_pos2 = pickle.load(open(pickle_2, 'rb'))[func_name_2]\n",
    "print(G_pos1.nodes[1]['feat'])\n",
    "print(G_pos2.nodes[1]['feat'])\n",
    "\n",
    "# Negative pair\n",
    "pickle_1 = df_neg_val.iloc[idx]['pickle_path_1']\n",
    "func_name_1 = df_neg_val.iloc[idx]['func_name_1']\n",
    "\n",
    "pickle_2 = df_neg_val.iloc[idx]['pickle_path_2']\n",
    "func_name_2 = df_neg_val.iloc[idx]['func_name_2']\n",
    "\n",
    "print(\"\\n\")\n",
    "print(\"Negative pair\")\n",
    "\n",
    "G_neg1 = pickle.load(open(pickle_1, 'rb'))[func_name_1]\n",
    "G_neg2 = pickle.load(open(pickle_2, 'rb'))[func_name_2]\n",
    "print(G_neg1.nodes[1]['feat'])\n",
    "print(G_neg2.nodes[1]['feat'])"
   ]
  }
 ],
 "metadata": {
  "kernelspec": {
   "display_name": "Python 3 (ipykernel)",
   "language": "python",
   "name": "python3"
  },
  "language_info": {
   "codemirror_mode": {
    "name": "ipython",
    "version": 3
   },
   "file_extension": ".py",
   "mimetype": "text/x-python",
   "name": "python",
   "nbconvert_exporter": "python",
   "pygments_lexer": "ipython3",
   "version": "3.9.12"
  }
 },
 "nbformat": 4,
 "nbformat_minor": 2
}
