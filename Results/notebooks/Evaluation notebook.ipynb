{
 "cells": [
  {
   "cell_type": "code",
   "execution_count": 3,
   "metadata": {},
   "outputs": [],
   "source": [
    "##############################################################################\n",
    "#                                                                            #\n",
    "#  Code for the USENIX Security '22 paper:                                   #\n",
    "#  How Machine Learning Is Solving the Binary Function Similarity Problem.   #\n",
    "#                                                                            #\n",
    "#  MIT License                                                               #\n",
    "#                                                                            #\n",
    "#  Copyright (c) 2019-2022 Cisco Talos                                       #\n",
    "#                                                                            #\n",
    "#  Permission is hereby granted, free of charge, to any person obtaining     #\n",
    "#  a copy of this software and associated documentation files (the           #\n",
    "#  \"Software\"), to deal in the Software without restriction, including       #\n",
    "#  without limitation the rights to use, copy, modify, merge, publish,       #\n",
    "#  distribute, sublicense, and/or sell copies of the Software, and to        #\n",
    "#  permit persons to whom the Software is furnished to do so, subject to     #\n",
    "#  the following conditions:                                                 #\n",
    "#                                                                            #\n",
    "#  The above copyright notice and this permission notice shall be            #\n",
    "#  included in all copies or substantial portions of the Software.           #\n",
    "#                                                                            #\n",
    "#  THE SOFTWARE IS PROVIDED \"AS IS\", WITHOUT WARRANTY OF ANY KIND,           #\n",
    "#  EXPRESS OR IMPLIED, INCLUDING BUT NOT LIMITED TO THE WARRANTIES OF        #\n",
    "#  MERCHANTABILITY, FITNESS FOR A PARTICULAR PURPOSE AND                     #\n",
    "#  NONINFRINGEMENT. IN NO EVENT SHALL THE AUTHORS OR COPYRIGHT HOLDERS BE    #\n",
    "#  LIABLE FOR ANY CLAIM, DAMAGES OR OTHER LIABILITY, WHETHER IN AN ACTION    #\n",
    "#  OF CONTRACT, TORT OR OTHERWISE, ARISING FROM, OUT OF OR IN CONNECTION     #\n",
    "#  WITH THE SOFTWARE OR THE USE OR OTHER DEALINGS IN THE SOFTWARE.           #\n",
    "#                                                                            #\n",
    "#  Evaluation notebook                                                       #\n",
    "#                                                                            #\n",
    "##############################################################################"
   ]
  },
  {
   "cell_type": "code",
   "execution_count": 4,
   "metadata": {},
   "outputs": [],
   "source": [
    "import json\n",
    "import numpy as np\n",
    "import os\n",
    "import pandas as pd\n",
    "\n",
    "from IPython.display import display\n",
    "from collections import defaultdict\n",
    "from sklearn import metrics\n",
    "\n",
    "import matplotlib as mpl\n",
    "import matplotlib.pyplot as plt\n",
    "%config InlineBackend.figure_format = 'retina'"
   ]
  },
  {
   "cell_type": "markdown",
   "metadata": {},
   "source": [
    "### Utils functions"
   ]
  },
  {
   "cell_type": "code",
   "execution_count": 5,
   "metadata": {},
   "outputs": [],
   "source": [
    "def process_df(df_pairs, df_similarity, is_pos):\n",
    "    df_pairs = df_pairs.merge(\n",
    "        df_similarity,\n",
    "        how='left',\n",
    "        left_on=['idb_path_1', 'fva_1',\n",
    "                 'idb_path_2', 'fva_2'],\n",
    "        right_on=['idb_path_1', 'fva_1', 'idb_path_2', 'fva_2'])\n",
    "\n",
    "    if is_pos:\n",
    "        # If positive pairs, the perfect similarity is 1\n",
    "        df_pairs['gt'] = [1] * df_pairs.shape[0]\n",
    "    else:\n",
    "        # if negative pairs, the perfect similarity is 0\n",
    "        df_pairs['gt'] = [-1] * df_pairs.shape[0]\n",
    "\n",
    "    return df_pairs"
   ]
  },
  {
   "cell_type": "markdown",
   "metadata": {},
   "source": [
    "### Utility functions for plotting"
   ]
  },
  {
   "cell_type": "code",
   "execution_count": 6,
   "metadata": {},
   "outputs": [],
   "source": [
    "def plot_roc_values(df_pos_input, df_neg_input, plot=None, plt_cosine_sim=False):\n",
    "    task_list = sorted(list(set(df_pos_input['db_type'])))\n",
    "    result_list = list()\n",
    "\n",
    "    for task in task_list:\n",
    "        # Filter test data by test case\n",
    "        df_pos = df_pos_input[df_pos_input['db_type'] == task]\n",
    "        df_neg = df_neg_input[df_neg_input['db_type'] == task]\n",
    "\n",
    "        if plt_cosine_sim:\n",
    "            print(\"Processing task: {}\".format(task))\n",
    "            display(df_pos['cs'].hist(bins=200))\n",
    "            display(df_neg['cs'].hist(bins=200, alpha=0.8))\n",
    "            plt.show()\n",
    "            continue\n",
    "\n",
    "        # Get predicted and ground truth value\n",
    "        pred_list = list(df_pos['cs'].values) + \\\n",
    "            list(df_neg['cs'].values)\n",
    "        gt_list = list(df_pos['gt'].values) + list(df_neg['gt'].values)\n",
    "\n",
    "        # Compute the ROC AUC\n",
    "        fpr, tpr, thresholds = metrics.roc_curve(gt_list, pred_list)\n",
    "        roc_auc = metrics.roc_auc_score(gt_list, pred_list)\n",
    "        print('%20s - AUC = %0.2f' % (task, roc_auc))\n",
    "        result_list.append([\n",
    "            \"%20s\" % (task),\n",
    "            \"%0.2f\" % (roc_auc)])\n",
    "\n",
    "        if plot:\n",
    "            plt.plot(fpr,\n",
    "                     tpr,\n",
    "                     linewidth=1.0,\n",
    "                     label='AUC = %0.2f' % (roc_auc))\n",
    "\n",
    "        if plot:\n",
    "            plt.title(\"Task: {}\".format(task))\n",
    "            plt.legend(loc='lower right')\n",
    "            plt.plot([0, 1], [0, 1], 'k--')\n",
    "            plt.xlim([0, 1])\n",
    "            plt.ylim([0, 1])\n",
    "            plt.ylabel('True Positive Rate')\n",
    "            plt.xlabel('False Positive Rate')\n",
    "            # plt.savefig(\"output/{}split_{}.png\".format(split, task), dpi=300)\n",
    "            plt.show()\n",
    "\n",
    "    return result_list"
   ]
  },
  {
   "cell_type": "markdown",
   "metadata": {},
   "source": [
    "## Compute ranking metrics"
   ]
  },
  {
   "cell_type": "code",
   "execution_count": 7,
   "metadata": {},
   "outputs": [],
   "source": [
    "def get_ranking(pos, neg_results):\n",
    "\n",
    "    # Sort the negative results in descending mode\n",
    "    neg_results = sorted(neg_results, reverse=True)\n",
    "\n",
    "    # BUG FIX:\n",
    "    if pos == 0:\n",
    "        return len(neg_results) + 1\n",
    "\n",
    "    # Find the first position where the pos element is >=\n",
    "    for c, i in enumerate(neg_results):\n",
    "        if pos >= i:\n",
    "            return c +1\n",
    "\n",
    "    # Otherwise return the last position +1 \n",
    "    return len(neg_results) + 1"
   ]
  },
  {
   "cell_type": "code",
   "execution_count": 8,
   "metadata": {},
   "outputs": [],
   "source": [
    "def compute_ranking_metrics(df_pos_ranking_input, df_neg_ranking_input):\n",
    "    ranking_result_dict = defaultdict(list)\n",
    "    TOP_LIST = [1] + list(range(5, 55, 5))\n",
    "    task_list = list(set(df_pos_ranking_input['db_type']))\n",
    "\n",
    "    for task in sorted(task_list):\n",
    "        # Filter test data by task\n",
    "        df_pos = df_pos_ranking_input[\n",
    "            df_pos_ranking_input['db_type'] == task]\n",
    "        df_neg = df_neg_ranking_input[\n",
    "            df_neg_ranking_input['db_type'] == task]\n",
    "\n",
    "        # display(df_pos['cs'].hist(bins=200))\n",
    "        # display(df_neg['cs'].hist(bins=200, alpha=0.8))\n",
    "        # plt.show()\n",
    "\n",
    "        num_test_cases = df_pos.shape[0]\n",
    "\n",
    "        # Compute the ranking for all the positive test cases\n",
    "        ranking_list = list()\n",
    "        for idx, group in df_neg.groupby(['idb_path_1', 'fva_1']):\n",
    "            c1 = (df_pos['idb_path_1'] == idx[0])\n",
    "            c2 = (df_pos['fva_1'] == idx[1])\n",
    "            pos_pred = df_pos[c1 & c2]['cs'].values[0]\n",
    "            neg_pred = sorted(group['cs'].values, reverse=True)\n",
    "            rank = get_ranking(pos_pred, neg_pred)\n",
    "            ranking_list.append(rank)\n",
    "\n",
    "        # Compute the ranking list\n",
    "        top_results = list()\n",
    "        for tt in TOP_LIST:\n",
    "            r = len([x for x in ranking_list if x <= tt])\n",
    "            top_results.append(r)\n",
    "\n",
    "        # MRR metric\n",
    "        MRR_list = [1 / x if x <= 10 else 0 for x in ranking_list]\n",
    "        MRR = sum(MRR_list) / len(MRR_list)\n",
    "\n",
    "        # Save data in a temporary dictionary\n",
    "        ranking_result_dict[\"task\"].append(task)\n",
    "        ranking_result_dict[\"num_test_cases\"].append(num_test_cases)\n",
    "        for tt, tr in zip(TOP_LIST, top_results):\n",
    "            ranking_result_dict[\"cc_top_{}\".format(tt)].append(tr)\n",
    "        ranking_result_dict[\"MRR\"].append(MRR)\n",
    "\n",
    "    df_ranking = pd.DataFrame.from_dict(ranking_result_dict)\n",
    "    return df_ranking"
   ]
  },
  {
   "cell_type": "markdown",
   "metadata": {},
   "source": [
    "## NN results (similarity is already available)"
   ]
  },
  {
   "cell_type": "code",
   "execution_count": 14,
   "metadata": {},
   "outputs": [],
   "source": [
    "!mkdir -p _output/Dataset-2"
   ]
  },
  {
   "cell_type": "code",
   "execution_count": 15,
   "metadata": {
    "scrolled": true
   },
   "outputs": [
    {
     "name": "stdout",
     "output_type": "stream",
     "text": [
      "Processing pos_rank_testing_Dataset-2_SAFE_ASM-list_Trainable_e10.csv\n",
      "0.6142685669880001 -0.5273025614075466\n"
     ]
    },
    {
     "data": {
      "text/html": [
       "<div>\n",
       "<style scoped>\n",
       "    .dataframe tbody tr th:only-of-type {\n",
       "        vertical-align: middle;\n",
       "    }\n",
       "\n",
       "    .dataframe tbody tr th {\n",
       "        vertical-align: top;\n",
       "    }\n",
       "\n",
       "    .dataframe thead th {\n",
       "        text-align: right;\n",
       "    }\n",
       "</style>\n",
       "<table border=\"1\" class=\"dataframe\">\n",
       "  <thead>\n",
       "    <tr style=\"text-align: right;\">\n",
       "      <th></th>\n",
       "      <th>task</th>\n",
       "      <th>num_test_cases</th>\n",
       "      <th>cc_top_1</th>\n",
       "      <th>cc_top_5</th>\n",
       "      <th>cc_top_10</th>\n",
       "      <th>cc_top_15</th>\n",
       "      <th>cc_top_20</th>\n",
       "      <th>cc_top_25</th>\n",
       "      <th>cc_top_30</th>\n",
       "      <th>cc_top_35</th>\n",
       "      <th>cc_top_40</th>\n",
       "      <th>cc_top_45</th>\n",
       "      <th>cc_top_50</th>\n",
       "      <th>MRR</th>\n",
       "      <th>recall@1</th>\n",
       "    </tr>\n",
       "  </thead>\n",
       "  <tbody>\n",
       "    <tr>\n",
       "      <th>0</th>\n",
       "      <td>1</td>\n",
       "      <td>200</td>\n",
       "      <td>51</td>\n",
       "      <td>119</td>\n",
       "      <td>150</td>\n",
       "      <td>162</td>\n",
       "      <td>173</td>\n",
       "      <td>179</td>\n",
       "      <td>183</td>\n",
       "      <td>183</td>\n",
       "      <td>187</td>\n",
       "      <td>191</td>\n",
       "      <td>194</td>\n",
       "      <td>0.397887</td>\n",
       "      <td>0.255</td>\n",
       "    </tr>\n",
       "    <tr>\n",
       "      <th>1</th>\n",
       "      <td>2</td>\n",
       "      <td>200</td>\n",
       "      <td>49</td>\n",
       "      <td>134</td>\n",
       "      <td>169</td>\n",
       "      <td>184</td>\n",
       "      <td>190</td>\n",
       "      <td>192</td>\n",
       "      <td>192</td>\n",
       "      <td>195</td>\n",
       "      <td>197</td>\n",
       "      <td>197</td>\n",
       "      <td>198</td>\n",
       "      <td>0.426571</td>\n",
       "      <td>0.245</td>\n",
       "    </tr>\n",
       "    <tr>\n",
       "      <th>2</th>\n",
       "      <td>3</td>\n",
       "      <td>200</td>\n",
       "      <td>46</td>\n",
       "      <td>109</td>\n",
       "      <td>143</td>\n",
       "      <td>157</td>\n",
       "      <td>168</td>\n",
       "      <td>181</td>\n",
       "      <td>183</td>\n",
       "      <td>185</td>\n",
       "      <td>189</td>\n",
       "      <td>191</td>\n",
       "      <td>191</td>\n",
       "      <td>0.372282</td>\n",
       "      <td>0.230</td>\n",
       "    </tr>\n",
       "  </tbody>\n",
       "</table>\n",
       "</div>"
      ],
      "text/plain": [
       "   task  num_test_cases  cc_top_1  cc_top_5  cc_top_10  cc_top_15  cc_top_20  \\\n",
       "0     1             200        51       119        150        162        173   \n",
       "1     2             200        49       134        169        184        190   \n",
       "2     3             200        46       109        143        157        168   \n",
       "\n",
       "   cc_top_25  cc_top_30  cc_top_35  cc_top_40  cc_top_45  cc_top_50       MRR  \\\n",
       "0        179        183        183        187        191        194  0.397887   \n",
       "1        192        192        195        197        197        198  0.426571   \n",
       "2        181        183        185        189        191        191  0.372282   \n",
       "\n",
       "   recall@1  \n",
       "0     0.255  \n",
       "1     0.245  \n",
       "2     0.230  "
      ]
     },
     "metadata": {},
     "output_type": "display_data"
    },
    {
     "name": "stdout",
     "output_type": "stream",
     "text": [
      "rank_testing_Dataset-2_SAFE_ASM-list_Trainable_e10\n"
     ]
    },
    {
     "data": {
      "text/plain": [
       "MRR         0.397887\n",
       "recall@1    0.255000\n",
       "Name: 0, dtype: float64"
      ]
     },
     "metadata": {},
     "output_type": "display_data"
    },
    {
     "data": {
      "text/plain": [
       "MRR         0.426571\n",
       "recall@1    0.245000\n",
       "Name: 1, dtype: float64"
      ]
     },
     "metadata": {},
     "output_type": "display_data"
    },
    {
     "data": {
      "text/plain": [
       "MRR         0.372282\n",
       "recall@1    0.230000\n",
       "Name: 2, dtype: float64"
      ]
     },
     "metadata": {},
     "output_type": "display_data"
    },
    {
     "name": "stdout",
     "output_type": "stream",
     "text": [
      "\n",
      "\n",
      "Processing pos_rank_testing_Dataset-2_pvdm_e10.csv\n",
      "0.39526670283399257 0.2670229608998305\n"
     ]
    },
    {
     "data": {
      "text/html": [
       "<div>\n",
       "<style scoped>\n",
       "    .dataframe tbody tr th:only-of-type {\n",
       "        vertical-align: middle;\n",
       "    }\n",
       "\n",
       "    .dataframe tbody tr th {\n",
       "        vertical-align: top;\n",
       "    }\n",
       "\n",
       "    .dataframe thead th {\n",
       "        text-align: right;\n",
       "    }\n",
       "</style>\n",
       "<table border=\"1\" class=\"dataframe\">\n",
       "  <thead>\n",
       "    <tr style=\"text-align: right;\">\n",
       "      <th></th>\n",
       "      <th>task</th>\n",
       "      <th>num_test_cases</th>\n",
       "      <th>cc_top_1</th>\n",
       "      <th>cc_top_5</th>\n",
       "      <th>cc_top_10</th>\n",
       "      <th>cc_top_15</th>\n",
       "      <th>cc_top_20</th>\n",
       "      <th>cc_top_25</th>\n",
       "      <th>cc_top_30</th>\n",
       "      <th>cc_top_35</th>\n",
       "      <th>cc_top_40</th>\n",
       "      <th>cc_top_45</th>\n",
       "      <th>cc_top_50</th>\n",
       "      <th>MRR</th>\n",
       "      <th>recall@1</th>\n",
       "    </tr>\n",
       "  </thead>\n",
       "  <tbody>\n",
       "    <tr>\n",
       "      <th>0</th>\n",
       "      <td>XA</td>\n",
       "      <td>200</td>\n",
       "      <td>9</td>\n",
       "      <td>26</td>\n",
       "      <td>42</td>\n",
       "      <td>60</td>\n",
       "      <td>74</td>\n",
       "      <td>91</td>\n",
       "      <td>103</td>\n",
       "      <td>118</td>\n",
       "      <td>130</td>\n",
       "      <td>141</td>\n",
       "      <td>151</td>\n",
       "      <td>0.081915</td>\n",
       "      <td>0.045</td>\n",
       "    </tr>\n",
       "    <tr>\n",
       "      <th>1</th>\n",
       "      <td>XA+XO</td>\n",
       "      <td>200</td>\n",
       "      <td>37</td>\n",
       "      <td>56</td>\n",
       "      <td>74</td>\n",
       "      <td>92</td>\n",
       "      <td>104</td>\n",
       "      <td>117</td>\n",
       "      <td>124</td>\n",
       "      <td>132</td>\n",
       "      <td>138</td>\n",
       "      <td>142</td>\n",
       "      <td>153</td>\n",
       "      <td>0.231290</td>\n",
       "      <td>0.185</td>\n",
       "    </tr>\n",
       "    <tr>\n",
       "      <th>2</th>\n",
       "      <td>XO</td>\n",
       "      <td>200</td>\n",
       "      <td>102</td>\n",
       "      <td>162</td>\n",
       "      <td>181</td>\n",
       "      <td>183</td>\n",
       "      <td>188</td>\n",
       "      <td>191</td>\n",
       "      <td>193</td>\n",
       "      <td>193</td>\n",
       "      <td>195</td>\n",
       "      <td>195</td>\n",
       "      <td>196</td>\n",
       "      <td>0.638127</td>\n",
       "      <td>0.510</td>\n",
       "    </tr>\n",
       "  </tbody>\n",
       "</table>\n",
       "</div>"
      ],
      "text/plain": [
       "    task  num_test_cases  cc_top_1  cc_top_5  cc_top_10  cc_top_15  cc_top_20  \\\n",
       "0     XA             200         9        26         42         60         74   \n",
       "1  XA+XO             200        37        56         74         92        104   \n",
       "2     XO             200       102       162        181        183        188   \n",
       "\n",
       "   cc_top_25  cc_top_30  cc_top_35  cc_top_40  cc_top_45  cc_top_50       MRR  \\\n",
       "0         91        103        118        130        141        151  0.081915   \n",
       "1        117        124        132        138        142        153  0.231290   \n",
       "2        191        193        193        195        195        196  0.638127   \n",
       "\n",
       "   recall@1  \n",
       "0     0.045  \n",
       "1     0.185  \n",
       "2     0.510  "
      ]
     },
     "metadata": {},
     "output_type": "display_data"
    },
    {
     "name": "stdout",
     "output_type": "stream",
     "text": [
      "rank_testing_Dataset-2_pvdm_e10\n"
     ]
    },
    {
     "data": {
      "text/plain": [
       "MRR         0.081915\n",
       "recall@1       0.045\n",
       "Name: 0, dtype: object"
      ]
     },
     "metadata": {},
     "output_type": "display_data"
    },
    {
     "data": {
      "text/plain": [
       "MRR         0.23129\n",
       "recall@1      0.185\n",
       "Name: 1, dtype: object"
      ]
     },
     "metadata": {},
     "output_type": "display_data"
    },
    {
     "data": {
      "text/plain": [
       "MRR         0.638127\n",
       "recall@1        0.51\n",
       "Name: 2, dtype: object"
      ]
     },
     "metadata": {},
     "output_type": "display_data"
    },
    {
     "name": "stdout",
     "output_type": "stream",
     "text": [
      "\n",
      "\n",
      "Processing pos_rank_testing_Dataset-2_SAFE_ASM-list_e5.csv\n",
      "0.46631403645633335 -0.4201421523804313\n"
     ]
    },
    {
     "data": {
      "text/html": [
       "<div>\n",
       "<style scoped>\n",
       "    .dataframe tbody tr th:only-of-type {\n",
       "        vertical-align: middle;\n",
       "    }\n",
       "\n",
       "    .dataframe tbody tr th {\n",
       "        vertical-align: top;\n",
       "    }\n",
       "\n",
       "    .dataframe thead th {\n",
       "        text-align: right;\n",
       "    }\n",
       "</style>\n",
       "<table border=\"1\" class=\"dataframe\">\n",
       "  <thead>\n",
       "    <tr style=\"text-align: right;\">\n",
       "      <th></th>\n",
       "      <th>task</th>\n",
       "      <th>num_test_cases</th>\n",
       "      <th>cc_top_1</th>\n",
       "      <th>cc_top_5</th>\n",
       "      <th>cc_top_10</th>\n",
       "      <th>cc_top_15</th>\n",
       "      <th>cc_top_20</th>\n",
       "      <th>cc_top_25</th>\n",
       "      <th>cc_top_30</th>\n",
       "      <th>cc_top_35</th>\n",
       "      <th>cc_top_40</th>\n",
       "      <th>cc_top_45</th>\n",
       "      <th>cc_top_50</th>\n",
       "      <th>MRR</th>\n",
       "      <th>recall@1</th>\n",
       "    </tr>\n",
       "  </thead>\n",
       "  <tbody>\n",
       "    <tr>\n",
       "      <th>0</th>\n",
       "      <td>1</td>\n",
       "      <td>200</td>\n",
       "      <td>28</td>\n",
       "      <td>95</td>\n",
       "      <td>129</td>\n",
       "      <td>155</td>\n",
       "      <td>164</td>\n",
       "      <td>170</td>\n",
       "      <td>180</td>\n",
       "      <td>187</td>\n",
       "      <td>189</td>\n",
       "      <td>191</td>\n",
       "      <td>192</td>\n",
       "      <td>0.273724</td>\n",
       "      <td>0.140</td>\n",
       "    </tr>\n",
       "    <tr>\n",
       "      <th>1</th>\n",
       "      <td>2</td>\n",
       "      <td>200</td>\n",
       "      <td>35</td>\n",
       "      <td>96</td>\n",
       "      <td>144</td>\n",
       "      <td>163</td>\n",
       "      <td>172</td>\n",
       "      <td>181</td>\n",
       "      <td>188</td>\n",
       "      <td>191</td>\n",
       "      <td>196</td>\n",
       "      <td>199</td>\n",
       "      <td>199</td>\n",
       "      <td>0.304744</td>\n",
       "      <td>0.175</td>\n",
       "    </tr>\n",
       "    <tr>\n",
       "      <th>2</th>\n",
       "      <td>3</td>\n",
       "      <td>200</td>\n",
       "      <td>39</td>\n",
       "      <td>94</td>\n",
       "      <td>124</td>\n",
       "      <td>151</td>\n",
       "      <td>163</td>\n",
       "      <td>171</td>\n",
       "      <td>179</td>\n",
       "      <td>181</td>\n",
       "      <td>183</td>\n",
       "      <td>186</td>\n",
       "      <td>190</td>\n",
       "      <td>0.307157</td>\n",
       "      <td>0.195</td>\n",
       "    </tr>\n",
       "  </tbody>\n",
       "</table>\n",
       "</div>"
      ],
      "text/plain": [
       "   task  num_test_cases  cc_top_1  cc_top_5  cc_top_10  cc_top_15  cc_top_20  \\\n",
       "0     1             200        28        95        129        155        164   \n",
       "1     2             200        35        96        144        163        172   \n",
       "2     3             200        39        94        124        151        163   \n",
       "\n",
       "   cc_top_25  cc_top_30  cc_top_35  cc_top_40  cc_top_45  cc_top_50       MRR  \\\n",
       "0        170        180        187        189        191        192  0.273724   \n",
       "1        181        188        191        196        199        199  0.304744   \n",
       "2        171        179        181        183        186        190  0.307157   \n",
       "\n",
       "   recall@1  \n",
       "0     0.140  \n",
       "1     0.175  \n",
       "2     0.195  "
      ]
     },
     "metadata": {},
     "output_type": "display_data"
    },
    {
     "name": "stdout",
     "output_type": "stream",
     "text": [
      "rank_testing_Dataset-2_SAFE_ASM-list_e5\n"
     ]
    },
    {
     "data": {
      "text/plain": [
       "MRR         0.273724\n",
       "recall@1    0.140000\n",
       "Name: 0, dtype: float64"
      ]
     },
     "metadata": {},
     "output_type": "display_data"
    },
    {
     "data": {
      "text/plain": [
       "MRR         0.304744\n",
       "recall@1    0.175000\n",
       "Name: 1, dtype: float64"
      ]
     },
     "metadata": {},
     "output_type": "display_data"
    },
    {
     "data": {
      "text/plain": [
       "MRR         0.307157\n",
       "recall@1    0.195000\n",
       "Name: 2, dtype: float64"
      ]
     },
     "metadata": {},
     "output_type": "display_data"
    },
    {
     "name": "stdout",
     "output_type": "stream",
     "text": [
      "\n",
      "\n",
      "Processing pos_rank_testing_Dataset-2_catalog1_16.csv\n",
      "0.023557072855637313 0.003120488413768352\n"
     ]
    },
    {
     "data": {
      "text/html": [
       "<div>\n",
       "<style scoped>\n",
       "    .dataframe tbody tr th:only-of-type {\n",
       "        vertical-align: middle;\n",
       "    }\n",
       "\n",
       "    .dataframe tbody tr th {\n",
       "        vertical-align: top;\n",
       "    }\n",
       "\n",
       "    .dataframe thead th {\n",
       "        text-align: right;\n",
       "    }\n",
       "</style>\n",
       "<table border=\"1\" class=\"dataframe\">\n",
       "  <thead>\n",
       "    <tr style=\"text-align: right;\">\n",
       "      <th></th>\n",
       "      <th>task</th>\n",
       "      <th>num_test_cases</th>\n",
       "      <th>cc_top_1</th>\n",
       "      <th>cc_top_5</th>\n",
       "      <th>cc_top_10</th>\n",
       "      <th>cc_top_15</th>\n",
       "      <th>cc_top_20</th>\n",
       "      <th>cc_top_25</th>\n",
       "      <th>cc_top_30</th>\n",
       "      <th>cc_top_35</th>\n",
       "      <th>cc_top_40</th>\n",
       "      <th>cc_top_45</th>\n",
       "      <th>cc_top_50</th>\n",
       "      <th>MRR</th>\n",
       "      <th>recall@1</th>\n",
       "    </tr>\n",
       "  </thead>\n",
       "  <tbody>\n",
       "    <tr>\n",
       "      <th>0</th>\n",
       "      <td>XA</td>\n",
       "      <td>200</td>\n",
       "      <td>11</td>\n",
       "      <td>13</td>\n",
       "      <td>13</td>\n",
       "      <td>13</td>\n",
       "      <td>13</td>\n",
       "      <td>13</td>\n",
       "      <td>13</td>\n",
       "      <td>13</td>\n",
       "      <td>13</td>\n",
       "      <td>13</td>\n",
       "      <td>13</td>\n",
       "      <td>0.060000</td>\n",
       "      <td>0.055</td>\n",
       "    </tr>\n",
       "    <tr>\n",
       "      <th>1</th>\n",
       "      <td>XA+XO</td>\n",
       "      <td>200</td>\n",
       "      <td>27</td>\n",
       "      <td>29</td>\n",
       "      <td>29</td>\n",
       "      <td>29</td>\n",
       "      <td>29</td>\n",
       "      <td>29</td>\n",
       "      <td>29</td>\n",
       "      <td>29</td>\n",
       "      <td>29</td>\n",
       "      <td>29</td>\n",
       "      <td>29</td>\n",
       "      <td>0.138750</td>\n",
       "      <td>0.135</td>\n",
       "    </tr>\n",
       "    <tr>\n",
       "      <th>2</th>\n",
       "      <td>XO</td>\n",
       "      <td>200</td>\n",
       "      <td>75</td>\n",
       "      <td>103</td>\n",
       "      <td>109</td>\n",
       "      <td>109</td>\n",
       "      <td>109</td>\n",
       "      <td>109</td>\n",
       "      <td>109</td>\n",
       "      <td>109</td>\n",
       "      <td>109</td>\n",
       "      <td>109</td>\n",
       "      <td>109</td>\n",
       "      <td>0.433437</td>\n",
       "      <td>0.375</td>\n",
       "    </tr>\n",
       "  </tbody>\n",
       "</table>\n",
       "</div>"
      ],
      "text/plain": [
       "    task  num_test_cases  cc_top_1  cc_top_5  cc_top_10  cc_top_15  cc_top_20  \\\n",
       "0     XA             200        11        13         13         13         13   \n",
       "1  XA+XO             200        27        29         29         29         29   \n",
       "2     XO             200        75       103        109        109        109   \n",
       "\n",
       "   cc_top_25  cc_top_30  cc_top_35  cc_top_40  cc_top_45  cc_top_50       MRR  \\\n",
       "0         13         13         13         13         13         13  0.060000   \n",
       "1         29         29         29         29         29         29  0.138750   \n",
       "2        109        109        109        109        109        109  0.433437   \n",
       "\n",
       "   recall@1  \n",
       "0     0.055  \n",
       "1     0.135  \n",
       "2     0.375  "
      ]
     },
     "metadata": {},
     "output_type": "display_data"
    },
    {
     "name": "stdout",
     "output_type": "stream",
     "text": [
      "rank_testing_Dataset-2_catalog1_16\n"
     ]
    },
    {
     "data": {
      "text/plain": [
       "MRR          0.06\n",
       "recall@1    0.055\n",
       "Name: 0, dtype: object"
      ]
     },
     "metadata": {},
     "output_type": "display_data"
    },
    {
     "data": {
      "text/plain": [
       "MRR         0.13875\n",
       "recall@1      0.135\n",
       "Name: 1, dtype: object"
      ]
     },
     "metadata": {},
     "output_type": "display_data"
    },
    {
     "data": {
      "text/plain": [
       "MRR         0.433437\n",
       "recall@1       0.375\n",
       "Name: 2, dtype: object"
      ]
     },
     "metadata": {},
     "output_type": "display_data"
    },
    {
     "name": "stdout",
     "output_type": "stream",
     "text": [
      "\n",
      "\n",
      "Processing pos_rank_testing_Dataset-2_SAFE_ASM-list_250_e5.csv\n",
      "0.5369679162516667 -0.2834012997230734\n"
     ]
    },
    {
     "data": {
      "text/html": [
       "<div>\n",
       "<style scoped>\n",
       "    .dataframe tbody tr th:only-of-type {\n",
       "        vertical-align: middle;\n",
       "    }\n",
       "\n",
       "    .dataframe tbody tr th {\n",
       "        vertical-align: top;\n",
       "    }\n",
       "\n",
       "    .dataframe thead th {\n",
       "        text-align: right;\n",
       "    }\n",
       "</style>\n",
       "<table border=\"1\" class=\"dataframe\">\n",
       "  <thead>\n",
       "    <tr style=\"text-align: right;\">\n",
       "      <th></th>\n",
       "      <th>task</th>\n",
       "      <th>num_test_cases</th>\n",
       "      <th>cc_top_1</th>\n",
       "      <th>cc_top_5</th>\n",
       "      <th>cc_top_10</th>\n",
       "      <th>cc_top_15</th>\n",
       "      <th>cc_top_20</th>\n",
       "      <th>cc_top_25</th>\n",
       "      <th>cc_top_30</th>\n",
       "      <th>cc_top_35</th>\n",
       "      <th>cc_top_40</th>\n",
       "      <th>cc_top_45</th>\n",
       "      <th>cc_top_50</th>\n",
       "      <th>MRR</th>\n",
       "      <th>recall@1</th>\n",
       "    </tr>\n",
       "  </thead>\n",
       "  <tbody>\n",
       "    <tr>\n",
       "      <th>0</th>\n",
       "      <td>1</td>\n",
       "      <td>200</td>\n",
       "      <td>31</td>\n",
       "      <td>83</td>\n",
       "      <td>129</td>\n",
       "      <td>146</td>\n",
       "      <td>157</td>\n",
       "      <td>165</td>\n",
       "      <td>175</td>\n",
       "      <td>181</td>\n",
       "      <td>186</td>\n",
       "      <td>188</td>\n",
       "      <td>191</td>\n",
       "      <td>0.277280</td>\n",
       "      <td>0.155</td>\n",
       "    </tr>\n",
       "    <tr>\n",
       "      <th>1</th>\n",
       "      <td>2</td>\n",
       "      <td>200</td>\n",
       "      <td>37</td>\n",
       "      <td>101</td>\n",
       "      <td>130</td>\n",
       "      <td>157</td>\n",
       "      <td>174</td>\n",
       "      <td>183</td>\n",
       "      <td>187</td>\n",
       "      <td>192</td>\n",
       "      <td>195</td>\n",
       "      <td>197</td>\n",
       "      <td>198</td>\n",
       "      <td>0.317887</td>\n",
       "      <td>0.185</td>\n",
       "    </tr>\n",
       "    <tr>\n",
       "      <th>2</th>\n",
       "      <td>3</td>\n",
       "      <td>200</td>\n",
       "      <td>38</td>\n",
       "      <td>79</td>\n",
       "      <td>110</td>\n",
       "      <td>134</td>\n",
       "      <td>158</td>\n",
       "      <td>167</td>\n",
       "      <td>171</td>\n",
       "      <td>172</td>\n",
       "      <td>179</td>\n",
       "      <td>184</td>\n",
       "      <td>187</td>\n",
       "      <td>0.277381</td>\n",
       "      <td>0.190</td>\n",
       "    </tr>\n",
       "  </tbody>\n",
       "</table>\n",
       "</div>"
      ],
      "text/plain": [
       "   task  num_test_cases  cc_top_1  cc_top_5  cc_top_10  cc_top_15  cc_top_20  \\\n",
       "0     1             200        31        83        129        146        157   \n",
       "1     2             200        37       101        130        157        174   \n",
       "2     3             200        38        79        110        134        158   \n",
       "\n",
       "   cc_top_25  cc_top_30  cc_top_35  cc_top_40  cc_top_45  cc_top_50       MRR  \\\n",
       "0        165        175        181        186        188        191  0.277280   \n",
       "1        183        187        192        195        197        198  0.317887   \n",
       "2        167        171        172        179        184        187  0.277381   \n",
       "\n",
       "   recall@1  \n",
       "0     0.155  \n",
       "1     0.185  \n",
       "2     0.190  "
      ]
     },
     "metadata": {},
     "output_type": "display_data"
    },
    {
     "name": "stdout",
     "output_type": "stream",
     "text": [
      "rank_testing_Dataset-2_SAFE_ASM-list_250_e5\n"
     ]
    },
    {
     "data": {
      "text/plain": [
       "MRR         0.27728\n",
       "recall@1    0.15500\n",
       "Name: 0, dtype: float64"
      ]
     },
     "metadata": {},
     "output_type": "display_data"
    },
    {
     "data": {
      "text/plain": [
       "MRR         0.317887\n",
       "recall@1    0.185000\n",
       "Name: 1, dtype: float64"
      ]
     },
     "metadata": {},
     "output_type": "display_data"
    },
    {
     "data": {
      "text/plain": [
       "MRR         0.277381\n",
       "recall@1    0.190000\n",
       "Name: 2, dtype: float64"
      ]
     },
     "metadata": {},
     "output_type": "display_data"
    },
    {
     "name": "stdout",
     "output_type": "stream",
     "text": [
      "\n",
      "\n",
      "Processing pos_rank_testing_Dataset-2_GNN-s2v_ArithMean_e5.csv\n",
      "0.6592411937849999 0.09153301796981893\n"
     ]
    },
    {
     "data": {
      "text/html": [
       "<div>\n",
       "<style scoped>\n",
       "    .dataframe tbody tr th:only-of-type {\n",
       "        vertical-align: middle;\n",
       "    }\n",
       "\n",
       "    .dataframe tbody tr th {\n",
       "        vertical-align: top;\n",
       "    }\n",
       "\n",
       "    .dataframe thead th {\n",
       "        text-align: right;\n",
       "    }\n",
       "</style>\n",
       "<table border=\"1\" class=\"dataframe\">\n",
       "  <thead>\n",
       "    <tr style=\"text-align: right;\">\n",
       "      <th></th>\n",
       "      <th>task</th>\n",
       "      <th>num_test_cases</th>\n",
       "      <th>cc_top_1</th>\n",
       "      <th>cc_top_5</th>\n",
       "      <th>cc_top_10</th>\n",
       "      <th>cc_top_15</th>\n",
       "      <th>cc_top_20</th>\n",
       "      <th>cc_top_25</th>\n",
       "      <th>cc_top_30</th>\n",
       "      <th>cc_top_35</th>\n",
       "      <th>cc_top_40</th>\n",
       "      <th>cc_top_45</th>\n",
       "      <th>cc_top_50</th>\n",
       "      <th>MRR</th>\n",
       "      <th>recall@1</th>\n",
       "    </tr>\n",
       "  </thead>\n",
       "  <tbody>\n",
       "    <tr>\n",
       "      <th>0</th>\n",
       "      <td>1</td>\n",
       "      <td>200</td>\n",
       "      <td>75</td>\n",
       "      <td>115</td>\n",
       "      <td>138</td>\n",
       "      <td>153</td>\n",
       "      <td>158</td>\n",
       "      <td>168</td>\n",
       "      <td>176</td>\n",
       "      <td>180</td>\n",
       "      <td>184</td>\n",
       "      <td>187</td>\n",
       "      <td>190</td>\n",
       "      <td>0.456780</td>\n",
       "      <td>0.375</td>\n",
       "    </tr>\n",
       "    <tr>\n",
       "      <th>1</th>\n",
       "      <td>2</td>\n",
       "      <td>200</td>\n",
       "      <td>35</td>\n",
       "      <td>96</td>\n",
       "      <td>138</td>\n",
       "      <td>156</td>\n",
       "      <td>166</td>\n",
       "      <td>172</td>\n",
       "      <td>182</td>\n",
       "      <td>185</td>\n",
       "      <td>188</td>\n",
       "      <td>189</td>\n",
       "      <td>190</td>\n",
       "      <td>0.307538</td>\n",
       "      <td>0.175</td>\n",
       "    </tr>\n",
       "    <tr>\n",
       "      <th>2</th>\n",
       "      <td>3</td>\n",
       "      <td>200</td>\n",
       "      <td>65</td>\n",
       "      <td>112</td>\n",
       "      <td>131</td>\n",
       "      <td>141</td>\n",
       "      <td>152</td>\n",
       "      <td>165</td>\n",
       "      <td>172</td>\n",
       "      <td>176</td>\n",
       "      <td>180</td>\n",
       "      <td>180</td>\n",
       "      <td>182</td>\n",
       "      <td>0.418254</td>\n",
       "      <td>0.325</td>\n",
       "    </tr>\n",
       "  </tbody>\n",
       "</table>\n",
       "</div>"
      ],
      "text/plain": [
       "   task  num_test_cases  cc_top_1  cc_top_5  cc_top_10  cc_top_15  cc_top_20  \\\n",
       "0     1             200        75       115        138        153        158   \n",
       "1     2             200        35        96        138        156        166   \n",
       "2     3             200        65       112        131        141        152   \n",
       "\n",
       "   cc_top_25  cc_top_30  cc_top_35  cc_top_40  cc_top_45  cc_top_50       MRR  \\\n",
       "0        168        176        180        184        187        190  0.456780   \n",
       "1        172        182        185        188        189        190  0.307538   \n",
       "2        165        172        176        180        180        182  0.418254   \n",
       "\n",
       "   recall@1  \n",
       "0     0.375  \n",
       "1     0.175  \n",
       "2     0.325  "
      ]
     },
     "metadata": {},
     "output_type": "display_data"
    },
    {
     "name": "stdout",
     "output_type": "stream",
     "text": [
      "rank_testing_Dataset-2_GNN-s2v_ArithMean_e5\n"
     ]
    },
    {
     "data": {
      "text/plain": [
       "MRR         0.45678\n",
       "recall@1    0.37500\n",
       "Name: 0, dtype: float64"
      ]
     },
     "metadata": {},
     "output_type": "display_data"
    },
    {
     "data": {
      "text/plain": [
       "MRR         0.307538\n",
       "recall@1    0.175000\n",
       "Name: 1, dtype: float64"
      ]
     },
     "metadata": {},
     "output_type": "display_data"
    },
    {
     "data": {
      "text/plain": [
       "MRR         0.418254\n",
       "recall@1    0.325000\n",
       "Name: 2, dtype: float64"
      ]
     },
     "metadata": {},
     "output_type": "display_data"
    },
    {
     "name": "stdout",
     "output_type": "stream",
     "text": [
      "\n",
      "\n",
      "Processing pos_rank_testing_Dataset-2_GMN_NoFeatures_e16.csv\n",
      "-0.28580187775194565 -8.453742438169021\n"
     ]
    },
    {
     "data": {
      "text/html": [
       "<div>\n",
       "<style scoped>\n",
       "    .dataframe tbody tr th:only-of-type {\n",
       "        vertical-align: middle;\n",
       "    }\n",
       "\n",
       "    .dataframe tbody tr th {\n",
       "        vertical-align: top;\n",
       "    }\n",
       "\n",
       "    .dataframe thead th {\n",
       "        text-align: right;\n",
       "    }\n",
       "</style>\n",
       "<table border=\"1\" class=\"dataframe\">\n",
       "  <thead>\n",
       "    <tr style=\"text-align: right;\">\n",
       "      <th></th>\n",
       "      <th>task</th>\n",
       "      <th>num_test_cases</th>\n",
       "      <th>cc_top_1</th>\n",
       "      <th>cc_top_5</th>\n",
       "      <th>cc_top_10</th>\n",
       "      <th>cc_top_15</th>\n",
       "      <th>cc_top_20</th>\n",
       "      <th>cc_top_25</th>\n",
       "      <th>cc_top_30</th>\n",
       "      <th>cc_top_35</th>\n",
       "      <th>cc_top_40</th>\n",
       "      <th>cc_top_45</th>\n",
       "      <th>cc_top_50</th>\n",
       "      <th>MRR</th>\n",
       "      <th>recall@1</th>\n",
       "    </tr>\n",
       "  </thead>\n",
       "  <tbody>\n",
       "    <tr>\n",
       "      <th>0</th>\n",
       "      <td>1</td>\n",
       "      <td>200</td>\n",
       "      <td>101</td>\n",
       "      <td>151</td>\n",
       "      <td>158</td>\n",
       "      <td>172</td>\n",
       "      <td>178</td>\n",
       "      <td>182</td>\n",
       "      <td>188</td>\n",
       "      <td>190</td>\n",
       "      <td>193</td>\n",
       "      <td>193</td>\n",
       "      <td>196</td>\n",
       "      <td>0.611117</td>\n",
       "      <td>0.505</td>\n",
       "    </tr>\n",
       "    <tr>\n",
       "      <th>1</th>\n",
       "      <td>2</td>\n",
       "      <td>200</td>\n",
       "      <td>136</td>\n",
       "      <td>172</td>\n",
       "      <td>185</td>\n",
       "      <td>187</td>\n",
       "      <td>188</td>\n",
       "      <td>191</td>\n",
       "      <td>192</td>\n",
       "      <td>192</td>\n",
       "      <td>193</td>\n",
       "      <td>193</td>\n",
       "      <td>193</td>\n",
       "      <td>0.759115</td>\n",
       "      <td>0.680</td>\n",
       "    </tr>\n",
       "    <tr>\n",
       "      <th>2</th>\n",
       "      <td>3</td>\n",
       "      <td>200</td>\n",
       "      <td>117</td>\n",
       "      <td>157</td>\n",
       "      <td>169</td>\n",
       "      <td>172</td>\n",
       "      <td>178</td>\n",
       "      <td>181</td>\n",
       "      <td>186</td>\n",
       "      <td>187</td>\n",
       "      <td>188</td>\n",
       "      <td>191</td>\n",
       "      <td>197</td>\n",
       "      <td>0.668885</td>\n",
       "      <td>0.585</td>\n",
       "    </tr>\n",
       "  </tbody>\n",
       "</table>\n",
       "</div>"
      ],
      "text/plain": [
       "   task  num_test_cases  cc_top_1  cc_top_5  cc_top_10  cc_top_15  cc_top_20  \\\n",
       "0     1             200       101       151        158        172        178   \n",
       "1     2             200       136       172        185        187        188   \n",
       "2     3             200       117       157        169        172        178   \n",
       "\n",
       "   cc_top_25  cc_top_30  cc_top_35  cc_top_40  cc_top_45  cc_top_50       MRR  \\\n",
       "0        182        188        190        193        193        196  0.611117   \n",
       "1        191        192        192        193        193        193  0.759115   \n",
       "2        181        186        187        188        191        197  0.668885   \n",
       "\n",
       "   recall@1  \n",
       "0     0.505  \n",
       "1     0.680  \n",
       "2     0.585  "
      ]
     },
     "metadata": {},
     "output_type": "display_data"
    },
    {
     "name": "stdout",
     "output_type": "stream",
     "text": [
      "rank_testing_Dataset-2_GMN_NoFeatures_e16\n"
     ]
    },
    {
     "data": {
      "text/plain": [
       "MRR         0.611117\n",
       "recall@1    0.505000\n",
       "Name: 0, dtype: float64"
      ]
     },
     "metadata": {},
     "output_type": "display_data"
    },
    {
     "data": {
      "text/plain": [
       "MRR         0.759115\n",
       "recall@1    0.680000\n",
       "Name: 1, dtype: float64"
      ]
     },
     "metadata": {},
     "output_type": "display_data"
    },
    {
     "data": {
      "text/plain": [
       "MRR         0.668885\n",
       "recall@1    0.585000\n",
       "Name: 2, dtype: float64"
      ]
     },
     "metadata": {},
     "output_type": "display_data"
    },
    {
     "name": "stdout",
     "output_type": "stream",
     "text": [
      "\n",
      "\n",
      "Processing pos_rank_testing_Dataset-2_catalog1_64.csv\n",
      "0.024141974429289236 0.003503835585841498\n"
     ]
    },
    {
     "data": {
      "text/html": [
       "<div>\n",
       "<style scoped>\n",
       "    .dataframe tbody tr th:only-of-type {\n",
       "        vertical-align: middle;\n",
       "    }\n",
       "\n",
       "    .dataframe tbody tr th {\n",
       "        vertical-align: top;\n",
       "    }\n",
       "\n",
       "    .dataframe thead th {\n",
       "        text-align: right;\n",
       "    }\n",
       "</style>\n",
       "<table border=\"1\" class=\"dataframe\">\n",
       "  <thead>\n",
       "    <tr style=\"text-align: right;\">\n",
       "      <th></th>\n",
       "      <th>task</th>\n",
       "      <th>num_test_cases</th>\n",
       "      <th>cc_top_1</th>\n",
       "      <th>cc_top_5</th>\n",
       "      <th>cc_top_10</th>\n",
       "      <th>cc_top_15</th>\n",
       "      <th>cc_top_20</th>\n",
       "      <th>cc_top_25</th>\n",
       "      <th>cc_top_30</th>\n",
       "      <th>cc_top_35</th>\n",
       "      <th>cc_top_40</th>\n",
       "      <th>cc_top_45</th>\n",
       "      <th>cc_top_50</th>\n",
       "      <th>MRR</th>\n",
       "      <th>recall@1</th>\n",
       "    </tr>\n",
       "  </thead>\n",
       "  <tbody>\n",
       "    <tr>\n",
       "      <th>0</th>\n",
       "      <td>XA</td>\n",
       "      <td>200</td>\n",
       "      <td>12</td>\n",
       "      <td>22</td>\n",
       "      <td>27</td>\n",
       "      <td>31</td>\n",
       "      <td>32</td>\n",
       "      <td>33</td>\n",
       "      <td>33</td>\n",
       "      <td>33</td>\n",
       "      <td>33</td>\n",
       "      <td>33</td>\n",
       "      <td>33</td>\n",
       "      <td>0.078153</td>\n",
       "      <td>0.060</td>\n",
       "    </tr>\n",
       "    <tr>\n",
       "      <th>1</th>\n",
       "      <td>XA+XO</td>\n",
       "      <td>200</td>\n",
       "      <td>31</td>\n",
       "      <td>43</td>\n",
       "      <td>56</td>\n",
       "      <td>58</td>\n",
       "      <td>58</td>\n",
       "      <td>58</td>\n",
       "      <td>58</td>\n",
       "      <td>58</td>\n",
       "      <td>58</td>\n",
       "      <td>58</td>\n",
       "      <td>58</td>\n",
       "      <td>0.183554</td>\n",
       "      <td>0.155</td>\n",
       "    </tr>\n",
       "    <tr>\n",
       "      <th>2</th>\n",
       "      <td>XO</td>\n",
       "      <td>200</td>\n",
       "      <td>79</td>\n",
       "      <td>120</td>\n",
       "      <td>143</td>\n",
       "      <td>153</td>\n",
       "      <td>164</td>\n",
       "      <td>166</td>\n",
       "      <td>170</td>\n",
       "      <td>175</td>\n",
       "      <td>175</td>\n",
       "      <td>175</td>\n",
       "      <td>175</td>\n",
       "      <td>0.481558</td>\n",
       "      <td>0.395</td>\n",
       "    </tr>\n",
       "  </tbody>\n",
       "</table>\n",
       "</div>"
      ],
      "text/plain": [
       "    task  num_test_cases  cc_top_1  cc_top_5  cc_top_10  cc_top_15  cc_top_20  \\\n",
       "0     XA             200        12        22         27         31         32   \n",
       "1  XA+XO             200        31        43         56         58         58   \n",
       "2     XO             200        79       120        143        153        164   \n",
       "\n",
       "   cc_top_25  cc_top_30  cc_top_35  cc_top_40  cc_top_45  cc_top_50       MRR  \\\n",
       "0         33         33         33         33         33         33  0.078153   \n",
       "1         58         58         58         58         58         58  0.183554   \n",
       "2        166        170        175        175        175        175  0.481558   \n",
       "\n",
       "   recall@1  \n",
       "0     0.060  \n",
       "1     0.155  \n",
       "2     0.395  "
      ]
     },
     "metadata": {},
     "output_type": "display_data"
    },
    {
     "name": "stdout",
     "output_type": "stream",
     "text": [
      "rank_testing_Dataset-2_catalog1_64\n"
     ]
    },
    {
     "data": {
      "text/plain": [
       "MRR         0.078153\n",
       "recall@1        0.06\n",
       "Name: 0, dtype: object"
      ]
     },
     "metadata": {},
     "output_type": "display_data"
    },
    {
     "data": {
      "text/plain": [
       "MRR         0.183554\n",
       "recall@1       0.155\n",
       "Name: 1, dtype: object"
      ]
     },
     "metadata": {},
     "output_type": "display_data"
    },
    {
     "data": {
      "text/plain": [
       "MRR         0.481558\n",
       "recall@1       0.395\n",
       "Name: 2, dtype: object"
      ]
     },
     "metadata": {},
     "output_type": "display_data"
    },
    {
     "name": "stdout",
     "output_type": "stream",
     "text": [
      "\n",
      "\n",
      "Processing pos_rank_testing_Dataset-2_GMN_OPC-200_e16.csv\n",
      "-1.1329834932313168 -40.521035114894666\n"
     ]
    },
    {
     "data": {
      "text/html": [
       "<div>\n",
       "<style scoped>\n",
       "    .dataframe tbody tr th:only-of-type {\n",
       "        vertical-align: middle;\n",
       "    }\n",
       "\n",
       "    .dataframe tbody tr th {\n",
       "        vertical-align: top;\n",
       "    }\n",
       "\n",
       "    .dataframe thead th {\n",
       "        text-align: right;\n",
       "    }\n",
       "</style>\n",
       "<table border=\"1\" class=\"dataframe\">\n",
       "  <thead>\n",
       "    <tr style=\"text-align: right;\">\n",
       "      <th></th>\n",
       "      <th>task</th>\n",
       "      <th>num_test_cases</th>\n",
       "      <th>cc_top_1</th>\n",
       "      <th>cc_top_5</th>\n",
       "      <th>cc_top_10</th>\n",
       "      <th>cc_top_15</th>\n",
       "      <th>cc_top_20</th>\n",
       "      <th>cc_top_25</th>\n",
       "      <th>cc_top_30</th>\n",
       "      <th>cc_top_35</th>\n",
       "      <th>cc_top_40</th>\n",
       "      <th>cc_top_45</th>\n",
       "      <th>cc_top_50</th>\n",
       "      <th>MRR</th>\n",
       "      <th>recall@1</th>\n",
       "    </tr>\n",
       "  </thead>\n",
       "  <tbody>\n",
       "    <tr>\n",
       "      <th>0</th>\n",
       "      <td>1</td>\n",
       "      <td>200</td>\n",
       "      <td>132</td>\n",
       "      <td>170</td>\n",
       "      <td>182</td>\n",
       "      <td>189</td>\n",
       "      <td>191</td>\n",
       "      <td>193</td>\n",
       "      <td>194</td>\n",
       "      <td>194</td>\n",
       "      <td>196</td>\n",
       "      <td>196</td>\n",
       "      <td>197</td>\n",
       "      <td>0.746484</td>\n",
       "      <td>0.66</td>\n",
       "    </tr>\n",
       "    <tr>\n",
       "      <th>1</th>\n",
       "      <td>2</td>\n",
       "      <td>200</td>\n",
       "      <td>154</td>\n",
       "      <td>186</td>\n",
       "      <td>192</td>\n",
       "      <td>196</td>\n",
       "      <td>196</td>\n",
       "      <td>197</td>\n",
       "      <td>197</td>\n",
       "      <td>197</td>\n",
       "      <td>197</td>\n",
       "      <td>198</td>\n",
       "      <td>198</td>\n",
       "      <td>0.837728</td>\n",
       "      <td>0.77</td>\n",
       "    </tr>\n",
       "    <tr>\n",
       "      <th>2</th>\n",
       "      <td>3</td>\n",
       "      <td>200</td>\n",
       "      <td>122</td>\n",
       "      <td>169</td>\n",
       "      <td>179</td>\n",
       "      <td>181</td>\n",
       "      <td>184</td>\n",
       "      <td>188</td>\n",
       "      <td>189</td>\n",
       "      <td>190</td>\n",
       "      <td>190</td>\n",
       "      <td>191</td>\n",
       "      <td>192</td>\n",
       "      <td>0.705401</td>\n",
       "      <td>0.61</td>\n",
       "    </tr>\n",
       "  </tbody>\n",
       "</table>\n",
       "</div>"
      ],
      "text/plain": [
       "   task  num_test_cases  cc_top_1  cc_top_5  cc_top_10  cc_top_15  cc_top_20  \\\n",
       "0     1             200       132       170        182        189        191   \n",
       "1     2             200       154       186        192        196        196   \n",
       "2     3             200       122       169        179        181        184   \n",
       "\n",
       "   cc_top_25  cc_top_30  cc_top_35  cc_top_40  cc_top_45  cc_top_50       MRR  \\\n",
       "0        193        194        194        196        196        197  0.746484   \n",
       "1        197        197        197        197        198        198  0.837728   \n",
       "2        188        189        190        190        191        192  0.705401   \n",
       "\n",
       "   recall@1  \n",
       "0      0.66  \n",
       "1      0.77  \n",
       "2      0.61  "
      ]
     },
     "metadata": {},
     "output_type": "display_data"
    },
    {
     "name": "stdout",
     "output_type": "stream",
     "text": [
      "rank_testing_Dataset-2_GMN_OPC-200_e16\n"
     ]
    },
    {
     "data": {
      "text/plain": [
       "MRR         0.746484\n",
       "recall@1    0.660000\n",
       "Name: 0, dtype: float64"
      ]
     },
     "metadata": {},
     "output_type": "display_data"
    },
    {
     "data": {
      "text/plain": [
       "MRR         0.837728\n",
       "recall@1    0.770000\n",
       "Name: 1, dtype: float64"
      ]
     },
     "metadata": {},
     "output_type": "display_data"
    },
    {
     "data": {
      "text/plain": [
       "MRR         0.705401\n",
       "recall@1    0.610000\n",
       "Name: 2, dtype: float64"
      ]
     },
     "metadata": {},
     "output_type": "display_data"
    },
    {
     "name": "stdout",
     "output_type": "stream",
     "text": [
      "\n",
      "\n",
      "Processing pos_rank_testing_Dataset-2_GGSNN_OPC-200_e10.csv\n",
      "-0.3878217642658504 -4.10225586837797\n"
     ]
    },
    {
     "data": {
      "text/html": [
       "<div>\n",
       "<style scoped>\n",
       "    .dataframe tbody tr th:only-of-type {\n",
       "        vertical-align: middle;\n",
       "    }\n",
       "\n",
       "    .dataframe tbody tr th {\n",
       "        vertical-align: top;\n",
       "    }\n",
       "\n",
       "    .dataframe thead th {\n",
       "        text-align: right;\n",
       "    }\n",
       "</style>\n",
       "<table border=\"1\" class=\"dataframe\">\n",
       "  <thead>\n",
       "    <tr style=\"text-align: right;\">\n",
       "      <th></th>\n",
       "      <th>task</th>\n",
       "      <th>num_test_cases</th>\n",
       "      <th>cc_top_1</th>\n",
       "      <th>cc_top_5</th>\n",
       "      <th>cc_top_10</th>\n",
       "      <th>cc_top_15</th>\n",
       "      <th>cc_top_20</th>\n",
       "      <th>cc_top_25</th>\n",
       "      <th>cc_top_30</th>\n",
       "      <th>cc_top_35</th>\n",
       "      <th>cc_top_40</th>\n",
       "      <th>cc_top_45</th>\n",
       "      <th>cc_top_50</th>\n",
       "      <th>MRR</th>\n",
       "      <th>recall@1</th>\n",
       "    </tr>\n",
       "  </thead>\n",
       "  <tbody>\n",
       "    <tr>\n",
       "      <th>0</th>\n",
       "      <td>1</td>\n",
       "      <td>200</td>\n",
       "      <td>114</td>\n",
       "      <td>166</td>\n",
       "      <td>181</td>\n",
       "      <td>187</td>\n",
       "      <td>190</td>\n",
       "      <td>192</td>\n",
       "      <td>197</td>\n",
       "      <td>197</td>\n",
       "      <td>198</td>\n",
       "      <td>199</td>\n",
       "      <td>199</td>\n",
       "      <td>0.674242</td>\n",
       "      <td>0.570</td>\n",
       "    </tr>\n",
       "    <tr>\n",
       "      <th>1</th>\n",
       "      <td>2</td>\n",
       "      <td>200</td>\n",
       "      <td>145</td>\n",
       "      <td>177</td>\n",
       "      <td>189</td>\n",
       "      <td>192</td>\n",
       "      <td>194</td>\n",
       "      <td>196</td>\n",
       "      <td>198</td>\n",
       "      <td>199</td>\n",
       "      <td>199</td>\n",
       "      <td>199</td>\n",
       "      <td>200</td>\n",
       "      <td>0.794752</td>\n",
       "      <td>0.725</td>\n",
       "    </tr>\n",
       "    <tr>\n",
       "      <th>2</th>\n",
       "      <td>3</td>\n",
       "      <td>200</td>\n",
       "      <td>114</td>\n",
       "      <td>159</td>\n",
       "      <td>175</td>\n",
       "      <td>179</td>\n",
       "      <td>185</td>\n",
       "      <td>187</td>\n",
       "      <td>188</td>\n",
       "      <td>189</td>\n",
       "      <td>190</td>\n",
       "      <td>191</td>\n",
       "      <td>191</td>\n",
       "      <td>0.671808</td>\n",
       "      <td>0.570</td>\n",
       "    </tr>\n",
       "  </tbody>\n",
       "</table>\n",
       "</div>"
      ],
      "text/plain": [
       "   task  num_test_cases  cc_top_1  cc_top_5  cc_top_10  cc_top_15  cc_top_20  \\\n",
       "0     1             200       114       166        181        187        190   \n",
       "1     2             200       145       177        189        192        194   \n",
       "2     3             200       114       159        175        179        185   \n",
       "\n",
       "   cc_top_25  cc_top_30  cc_top_35  cc_top_40  cc_top_45  cc_top_50       MRR  \\\n",
       "0        192        197        197        198        199        199  0.674242   \n",
       "1        196        198        199        199        199        200  0.794752   \n",
       "2        187        188        189        190        191        191  0.671808   \n",
       "\n",
       "   recall@1  \n",
       "0     0.570  \n",
       "1     0.725  \n",
       "2     0.570  "
      ]
     },
     "metadata": {},
     "output_type": "display_data"
    },
    {
     "name": "stdout",
     "output_type": "stream",
     "text": [
      "rank_testing_Dataset-2_GGSNN_OPC-200_e10\n"
     ]
    },
    {
     "data": {
      "text/plain": [
       "MRR         0.674242\n",
       "recall@1    0.570000\n",
       "Name: 0, dtype: float64"
      ]
     },
     "metadata": {},
     "output_type": "display_data"
    },
    {
     "data": {
      "text/plain": [
       "MRR         0.794752\n",
       "recall@1    0.725000\n",
       "Name: 1, dtype: float64"
      ]
     },
     "metadata": {},
     "output_type": "display_data"
    },
    {
     "data": {
      "text/plain": [
       "MRR         0.671808\n",
       "recall@1    0.570000\n",
       "Name: 2, dtype: float64"
      ]
     },
     "metadata": {},
     "output_type": "display_data"
    },
    {
     "name": "stdout",
     "output_type": "stream",
     "text": [
      "\n",
      "\n",
      "Processing pos_rank_testing_Dataset-2_GNN-s2v_GeminiNN_OPC-200_e5.csv\n",
      "0.7502357609443334 0.0737592036181557\n"
     ]
    },
    {
     "data": {
      "text/html": [
       "<div>\n",
       "<style scoped>\n",
       "    .dataframe tbody tr th:only-of-type {\n",
       "        vertical-align: middle;\n",
       "    }\n",
       "\n",
       "    .dataframe tbody tr th {\n",
       "        vertical-align: top;\n",
       "    }\n",
       "\n",
       "    .dataframe thead th {\n",
       "        text-align: right;\n",
       "    }\n",
       "</style>\n",
       "<table border=\"1\" class=\"dataframe\">\n",
       "  <thead>\n",
       "    <tr style=\"text-align: right;\">\n",
       "      <th></th>\n",
       "      <th>task</th>\n",
       "      <th>num_test_cases</th>\n",
       "      <th>cc_top_1</th>\n",
       "      <th>cc_top_5</th>\n",
       "      <th>cc_top_10</th>\n",
       "      <th>cc_top_15</th>\n",
       "      <th>cc_top_20</th>\n",
       "      <th>cc_top_25</th>\n",
       "      <th>cc_top_30</th>\n",
       "      <th>cc_top_35</th>\n",
       "      <th>cc_top_40</th>\n",
       "      <th>cc_top_45</th>\n",
       "      <th>cc_top_50</th>\n",
       "      <th>MRR</th>\n",
       "      <th>recall@1</th>\n",
       "    </tr>\n",
       "  </thead>\n",
       "  <tbody>\n",
       "    <tr>\n",
       "      <th>0</th>\n",
       "      <td>1</td>\n",
       "      <td>200</td>\n",
       "      <td>95</td>\n",
       "      <td>149</td>\n",
       "      <td>166</td>\n",
       "      <td>177</td>\n",
       "      <td>183</td>\n",
       "      <td>186</td>\n",
       "      <td>189</td>\n",
       "      <td>191</td>\n",
       "      <td>192</td>\n",
       "      <td>195</td>\n",
       "      <td>199</td>\n",
       "      <td>0.584246</td>\n",
       "      <td>0.475</td>\n",
       "    </tr>\n",
       "    <tr>\n",
       "      <th>1</th>\n",
       "      <td>2</td>\n",
       "      <td>200</td>\n",
       "      <td>84</td>\n",
       "      <td>156</td>\n",
       "      <td>179</td>\n",
       "      <td>186</td>\n",
       "      <td>189</td>\n",
       "      <td>194</td>\n",
       "      <td>196</td>\n",
       "      <td>197</td>\n",
       "      <td>197</td>\n",
       "      <td>198</td>\n",
       "      <td>199</td>\n",
       "      <td>0.566784</td>\n",
       "      <td>0.420</td>\n",
       "    </tr>\n",
       "    <tr>\n",
       "      <th>2</th>\n",
       "      <td>3</td>\n",
       "      <td>200</td>\n",
       "      <td>94</td>\n",
       "      <td>147</td>\n",
       "      <td>164</td>\n",
       "      <td>174</td>\n",
       "      <td>179</td>\n",
       "      <td>179</td>\n",
       "      <td>184</td>\n",
       "      <td>185</td>\n",
       "      <td>186</td>\n",
       "      <td>187</td>\n",
       "      <td>189</td>\n",
       "      <td>0.584488</td>\n",
       "      <td>0.470</td>\n",
       "    </tr>\n",
       "  </tbody>\n",
       "</table>\n",
       "</div>"
      ],
      "text/plain": [
       "   task  num_test_cases  cc_top_1  cc_top_5  cc_top_10  cc_top_15  cc_top_20  \\\n",
       "0     1             200        95       149        166        177        183   \n",
       "1     2             200        84       156        179        186        189   \n",
       "2     3             200        94       147        164        174        179   \n",
       "\n",
       "   cc_top_25  cc_top_30  cc_top_35  cc_top_40  cc_top_45  cc_top_50       MRR  \\\n",
       "0        186        189        191        192        195        199  0.584246   \n",
       "1        194        196        197        197        198        199  0.566784   \n",
       "2        179        184        185        186        187        189  0.584488   \n",
       "\n",
       "   recall@1  \n",
       "0     0.475  \n",
       "1     0.420  \n",
       "2     0.470  "
      ]
     },
     "metadata": {},
     "output_type": "display_data"
    },
    {
     "name": "stdout",
     "output_type": "stream",
     "text": [
      "rank_testing_Dataset-2_GNN-s2v_GeminiNN_OPC-200_e5\n"
     ]
    },
    {
     "data": {
      "text/plain": [
       "MRR         0.584246\n",
       "recall@1    0.475000\n",
       "Name: 0, dtype: float64"
      ]
     },
     "metadata": {},
     "output_type": "display_data"
    },
    {
     "data": {
      "text/plain": [
       "MRR         0.566784\n",
       "recall@1    0.420000\n",
       "Name: 1, dtype: float64"
      ]
     },
     "metadata": {},
     "output_type": "display_data"
    },
    {
     "data": {
      "text/plain": [
       "MRR         0.584488\n",
       "recall@1    0.470000\n",
       "Name: 2, dtype: float64"
      ]
     },
     "metadata": {},
     "output_type": "display_data"
    },
    {
     "name": "stdout",
     "output_type": "stream",
     "text": [
      "\n",
      "\n",
      "Processing pos_rank_testing_Dataset-2_GGSNN_NoFeatures_e10.csv\n",
      "-0.5086053852772437 -4.098323877258298\n"
     ]
    },
    {
     "data": {
      "text/html": [
       "<div>\n",
       "<style scoped>\n",
       "    .dataframe tbody tr th:only-of-type {\n",
       "        vertical-align: middle;\n",
       "    }\n",
       "\n",
       "    .dataframe tbody tr th {\n",
       "        vertical-align: top;\n",
       "    }\n",
       "\n",
       "    .dataframe thead th {\n",
       "        text-align: right;\n",
       "    }\n",
       "</style>\n",
       "<table border=\"1\" class=\"dataframe\">\n",
       "  <thead>\n",
       "    <tr style=\"text-align: right;\">\n",
       "      <th></th>\n",
       "      <th>task</th>\n",
       "      <th>num_test_cases</th>\n",
       "      <th>cc_top_1</th>\n",
       "      <th>cc_top_5</th>\n",
       "      <th>cc_top_10</th>\n",
       "      <th>cc_top_15</th>\n",
       "      <th>cc_top_20</th>\n",
       "      <th>cc_top_25</th>\n",
       "      <th>cc_top_30</th>\n",
       "      <th>cc_top_35</th>\n",
       "      <th>cc_top_40</th>\n",
       "      <th>cc_top_45</th>\n",
       "      <th>cc_top_50</th>\n",
       "      <th>MRR</th>\n",
       "      <th>recall@1</th>\n",
       "    </tr>\n",
       "  </thead>\n",
       "  <tbody>\n",
       "    <tr>\n",
       "      <th>0</th>\n",
       "      <td>1</td>\n",
       "      <td>200</td>\n",
       "      <td>87</td>\n",
       "      <td>136</td>\n",
       "      <td>154</td>\n",
       "      <td>164</td>\n",
       "      <td>175</td>\n",
       "      <td>185</td>\n",
       "      <td>186</td>\n",
       "      <td>189</td>\n",
       "      <td>189</td>\n",
       "      <td>190</td>\n",
       "      <td>193</td>\n",
       "      <td>0.539976</td>\n",
       "      <td>0.435</td>\n",
       "    </tr>\n",
       "    <tr>\n",
       "      <th>1</th>\n",
       "      <td>2</td>\n",
       "      <td>200</td>\n",
       "      <td>123</td>\n",
       "      <td>166</td>\n",
       "      <td>176</td>\n",
       "      <td>180</td>\n",
       "      <td>183</td>\n",
       "      <td>187</td>\n",
       "      <td>190</td>\n",
       "      <td>192</td>\n",
       "      <td>194</td>\n",
       "      <td>194</td>\n",
       "      <td>195</td>\n",
       "      <td>0.707573</td>\n",
       "      <td>0.615</td>\n",
       "    </tr>\n",
       "    <tr>\n",
       "      <th>2</th>\n",
       "      <td>3</td>\n",
       "      <td>200</td>\n",
       "      <td>98</td>\n",
       "      <td>145</td>\n",
       "      <td>159</td>\n",
       "      <td>165</td>\n",
       "      <td>171</td>\n",
       "      <td>175</td>\n",
       "      <td>180</td>\n",
       "      <td>187</td>\n",
       "      <td>189</td>\n",
       "      <td>189</td>\n",
       "      <td>189</td>\n",
       "      <td>0.588673</td>\n",
       "      <td>0.490</td>\n",
       "    </tr>\n",
       "  </tbody>\n",
       "</table>\n",
       "</div>"
      ],
      "text/plain": [
       "   task  num_test_cases  cc_top_1  cc_top_5  cc_top_10  cc_top_15  cc_top_20  \\\n",
       "0     1             200        87       136        154        164        175   \n",
       "1     2             200       123       166        176        180        183   \n",
       "2     3             200        98       145        159        165        171   \n",
       "\n",
       "   cc_top_25  cc_top_30  cc_top_35  cc_top_40  cc_top_45  cc_top_50       MRR  \\\n",
       "0        185        186        189        189        190        193  0.539976   \n",
       "1        187        190        192        194        194        195  0.707573   \n",
       "2        175        180        187        189        189        189  0.588673   \n",
       "\n",
       "   recall@1  \n",
       "0     0.435  \n",
       "1     0.615  \n",
       "2     0.490  "
      ]
     },
     "metadata": {},
     "output_type": "display_data"
    },
    {
     "name": "stdout",
     "output_type": "stream",
     "text": [
      "rank_testing_Dataset-2_GGSNN_NoFeatures_e10\n"
     ]
    },
    {
     "data": {
      "text/plain": [
       "MRR         0.539976\n",
       "recall@1    0.435000\n",
       "Name: 0, dtype: float64"
      ]
     },
     "metadata": {},
     "output_type": "display_data"
    },
    {
     "data": {
      "text/plain": [
       "MRR         0.707573\n",
       "recall@1    0.615000\n",
       "Name: 1, dtype: float64"
      ]
     },
     "metadata": {},
     "output_type": "display_data"
    },
    {
     "data": {
      "text/plain": [
       "MRR         0.588673\n",
       "recall@1    0.490000\n",
       "Name: 2, dtype: float64"
      ]
     },
     "metadata": {},
     "output_type": "display_data"
    },
    {
     "name": "stdout",
     "output_type": "stream",
     "text": [
      "\n",
      "\n",
      "Processing pos_rank_testing_Dataset-2_GNN-s2v_AttentionMean_e5.csv\n",
      "0.6317907053650667 0.09324779275972171\n"
     ]
    },
    {
     "data": {
      "text/html": [
       "<div>\n",
       "<style scoped>\n",
       "    .dataframe tbody tr th:only-of-type {\n",
       "        vertical-align: middle;\n",
       "    }\n",
       "\n",
       "    .dataframe tbody tr th {\n",
       "        vertical-align: top;\n",
       "    }\n",
       "\n",
       "    .dataframe thead th {\n",
       "        text-align: right;\n",
       "    }\n",
       "</style>\n",
       "<table border=\"1\" class=\"dataframe\">\n",
       "  <thead>\n",
       "    <tr style=\"text-align: right;\">\n",
       "      <th></th>\n",
       "      <th>task</th>\n",
       "      <th>num_test_cases</th>\n",
       "      <th>cc_top_1</th>\n",
       "      <th>cc_top_5</th>\n",
       "      <th>cc_top_10</th>\n",
       "      <th>cc_top_15</th>\n",
       "      <th>cc_top_20</th>\n",
       "      <th>cc_top_25</th>\n",
       "      <th>cc_top_30</th>\n",
       "      <th>cc_top_35</th>\n",
       "      <th>cc_top_40</th>\n",
       "      <th>cc_top_45</th>\n",
       "      <th>cc_top_50</th>\n",
       "      <th>MRR</th>\n",
       "      <th>recall@1</th>\n",
       "    </tr>\n",
       "  </thead>\n",
       "  <tbody>\n",
       "    <tr>\n",
       "      <th>0</th>\n",
       "      <td>1</td>\n",
       "      <td>200</td>\n",
       "      <td>57</td>\n",
       "      <td>96</td>\n",
       "      <td>125</td>\n",
       "      <td>140</td>\n",
       "      <td>151</td>\n",
       "      <td>160</td>\n",
       "      <td>167</td>\n",
       "      <td>172</td>\n",
       "      <td>176</td>\n",
       "      <td>181</td>\n",
       "      <td>183</td>\n",
       "      <td>0.374486</td>\n",
       "      <td>0.285</td>\n",
       "    </tr>\n",
       "    <tr>\n",
       "      <th>1</th>\n",
       "      <td>2</td>\n",
       "      <td>200</td>\n",
       "      <td>34</td>\n",
       "      <td>95</td>\n",
       "      <td>123</td>\n",
       "      <td>145</td>\n",
       "      <td>162</td>\n",
       "      <td>173</td>\n",
       "      <td>179</td>\n",
       "      <td>180</td>\n",
       "      <td>185</td>\n",
       "      <td>187</td>\n",
       "      <td>188</td>\n",
       "      <td>0.291028</td>\n",
       "      <td>0.170</td>\n",
       "    </tr>\n",
       "    <tr>\n",
       "      <th>2</th>\n",
       "      <td>3</td>\n",
       "      <td>200</td>\n",
       "      <td>54</td>\n",
       "      <td>97</td>\n",
       "      <td>120</td>\n",
       "      <td>135</td>\n",
       "      <td>145</td>\n",
       "      <td>155</td>\n",
       "      <td>163</td>\n",
       "      <td>169</td>\n",
       "      <td>172</td>\n",
       "      <td>177</td>\n",
       "      <td>180</td>\n",
       "      <td>0.358720</td>\n",
       "      <td>0.270</td>\n",
       "    </tr>\n",
       "  </tbody>\n",
       "</table>\n",
       "</div>"
      ],
      "text/plain": [
       "   task  num_test_cases  cc_top_1  cc_top_5  cc_top_10  cc_top_15  cc_top_20  \\\n",
       "0     1             200        57        96        125        140        151   \n",
       "1     2             200        34        95        123        145        162   \n",
       "2     3             200        54        97        120        135        145   \n",
       "\n",
       "   cc_top_25  cc_top_30  cc_top_35  cc_top_40  cc_top_45  cc_top_50       MRR  \\\n",
       "0        160        167        172        176        181        183  0.374486   \n",
       "1        173        179        180        185        187        188  0.291028   \n",
       "2        155        163        169        172        177        180  0.358720   \n",
       "\n",
       "   recall@1  \n",
       "0     0.285  \n",
       "1     0.170  \n",
       "2     0.270  "
      ]
     },
     "metadata": {},
     "output_type": "display_data"
    },
    {
     "name": "stdout",
     "output_type": "stream",
     "text": [
      "rank_testing_Dataset-2_GNN-s2v_AttentionMean_e5\n"
     ]
    },
    {
     "data": {
      "text/plain": [
       "MRR         0.374486\n",
       "recall@1    0.285000\n",
       "Name: 0, dtype: float64"
      ]
     },
     "metadata": {},
     "output_type": "display_data"
    },
    {
     "data": {
      "text/plain": [
       "MRR         0.291028\n",
       "recall@1    0.170000\n",
       "Name: 1, dtype: float64"
      ]
     },
     "metadata": {},
     "output_type": "display_data"
    },
    {
     "data": {
      "text/plain": [
       "MRR         0.35872\n",
       "recall@1    0.27000\n",
       "Name: 2, dtype: float64"
      ]
     },
     "metadata": {},
     "output_type": "display_data"
    },
    {
     "name": "stdout",
     "output_type": "stream",
     "text": [
      "\n",
      "\n",
      "Processing pos_rank_testing_Dataset-2_catalog1_128.csv\n",
      "0.023952992871835676 0.0037233321955235216\n"
     ]
    },
    {
     "data": {
      "text/html": [
       "<div>\n",
       "<style scoped>\n",
       "    .dataframe tbody tr th:only-of-type {\n",
       "        vertical-align: middle;\n",
       "    }\n",
       "\n",
       "    .dataframe tbody tr th {\n",
       "        vertical-align: top;\n",
       "    }\n",
       "\n",
       "    .dataframe thead th {\n",
       "        text-align: right;\n",
       "    }\n",
       "</style>\n",
       "<table border=\"1\" class=\"dataframe\">\n",
       "  <thead>\n",
       "    <tr style=\"text-align: right;\">\n",
       "      <th></th>\n",
       "      <th>task</th>\n",
       "      <th>num_test_cases</th>\n",
       "      <th>cc_top_1</th>\n",
       "      <th>cc_top_5</th>\n",
       "      <th>cc_top_10</th>\n",
       "      <th>cc_top_15</th>\n",
       "      <th>cc_top_20</th>\n",
       "      <th>cc_top_25</th>\n",
       "      <th>cc_top_30</th>\n",
       "      <th>cc_top_35</th>\n",
       "      <th>cc_top_40</th>\n",
       "      <th>cc_top_45</th>\n",
       "      <th>cc_top_50</th>\n",
       "      <th>MRR</th>\n",
       "      <th>recall@1</th>\n",
       "    </tr>\n",
       "  </thead>\n",
       "  <tbody>\n",
       "    <tr>\n",
       "      <th>0</th>\n",
       "      <td>XA</td>\n",
       "      <td>200</td>\n",
       "      <td>11</td>\n",
       "      <td>18</td>\n",
       "      <td>27</td>\n",
       "      <td>31</td>\n",
       "      <td>32</td>\n",
       "      <td>36</td>\n",
       "      <td>38</td>\n",
       "      <td>38</td>\n",
       "      <td>38</td>\n",
       "      <td>38</td>\n",
       "      <td>38</td>\n",
       "      <td>0.070879</td>\n",
       "      <td>0.055</td>\n",
       "    </tr>\n",
       "    <tr>\n",
       "      <th>1</th>\n",
       "      <td>XA+XO</td>\n",
       "      <td>200</td>\n",
       "      <td>28</td>\n",
       "      <td>41</td>\n",
       "      <td>53</td>\n",
       "      <td>65</td>\n",
       "      <td>68</td>\n",
       "      <td>69</td>\n",
       "      <td>69</td>\n",
       "      <td>69</td>\n",
       "      <td>69</td>\n",
       "      <td>69</td>\n",
       "      <td>69</td>\n",
       "      <td>0.173113</td>\n",
       "      <td>0.140</td>\n",
       "    </tr>\n",
       "    <tr>\n",
       "      <th>2</th>\n",
       "      <td>XO</td>\n",
       "      <td>200</td>\n",
       "      <td>83</td>\n",
       "      <td>120</td>\n",
       "      <td>145</td>\n",
       "      <td>160</td>\n",
       "      <td>166</td>\n",
       "      <td>172</td>\n",
       "      <td>175</td>\n",
       "      <td>181</td>\n",
       "      <td>186</td>\n",
       "      <td>186</td>\n",
       "      <td>188</td>\n",
       "      <td>0.496663</td>\n",
       "      <td>0.415</td>\n",
       "    </tr>\n",
       "  </tbody>\n",
       "</table>\n",
       "</div>"
      ],
      "text/plain": [
       "    task  num_test_cases  cc_top_1  cc_top_5  cc_top_10  cc_top_15  cc_top_20  \\\n",
       "0     XA             200        11        18         27         31         32   \n",
       "1  XA+XO             200        28        41         53         65         68   \n",
       "2     XO             200        83       120        145        160        166   \n",
       "\n",
       "   cc_top_25  cc_top_30  cc_top_35  cc_top_40  cc_top_45  cc_top_50       MRR  \\\n",
       "0         36         38         38         38         38         38  0.070879   \n",
       "1         69         69         69         69         69         69  0.173113   \n",
       "2        172        175        181        186        186        188  0.496663   \n",
       "\n",
       "   recall@1  \n",
       "0     0.055  \n",
       "1     0.140  \n",
       "2     0.415  "
      ]
     },
     "metadata": {},
     "output_type": "display_data"
    },
    {
     "name": "stdout",
     "output_type": "stream",
     "text": [
      "rank_testing_Dataset-2_catalog1_128\n"
     ]
    },
    {
     "data": {
      "text/plain": [
       "MRR         0.070879\n",
       "recall@1       0.055\n",
       "Name: 0, dtype: object"
      ]
     },
     "metadata": {},
     "output_type": "display_data"
    },
    {
     "data": {
      "text/plain": [
       "MRR         0.173113\n",
       "recall@1        0.14\n",
       "Name: 1, dtype: object"
      ]
     },
     "metadata": {},
     "output_type": "display_data"
    },
    {
     "data": {
      "text/plain": [
       "MRR         0.496663\n",
       "recall@1       0.415\n",
       "Name: 2, dtype: object"
      ]
     },
     "metadata": {},
     "output_type": "display_data"
    },
    {
     "name": "stdout",
     "output_type": "stream",
     "text": [
      "\n",
      "\n",
      "Processing pos_rank_testing_Dataset-2_Trex.csv\n",
      "0.6712788228411227 0.14755692012165436\n"
     ]
    },
    {
     "data": {
      "text/html": [
       "<div>\n",
       "<style scoped>\n",
       "    .dataframe tbody tr th:only-of-type {\n",
       "        vertical-align: middle;\n",
       "    }\n",
       "\n",
       "    .dataframe tbody tr th {\n",
       "        vertical-align: top;\n",
       "    }\n",
       "\n",
       "    .dataframe thead th {\n",
       "        text-align: right;\n",
       "    }\n",
       "</style>\n",
       "<table border=\"1\" class=\"dataframe\">\n",
       "  <thead>\n",
       "    <tr style=\"text-align: right;\">\n",
       "      <th></th>\n",
       "      <th>task</th>\n",
       "      <th>num_test_cases</th>\n",
       "      <th>cc_top_1</th>\n",
       "      <th>cc_top_5</th>\n",
       "      <th>cc_top_10</th>\n",
       "      <th>cc_top_15</th>\n",
       "      <th>cc_top_20</th>\n",
       "      <th>cc_top_25</th>\n",
       "      <th>cc_top_30</th>\n",
       "      <th>cc_top_35</th>\n",
       "      <th>cc_top_40</th>\n",
       "      <th>cc_top_45</th>\n",
       "      <th>cc_top_50</th>\n",
       "      <th>MRR</th>\n",
       "      <th>recall@1</th>\n",
       "    </tr>\n",
       "  </thead>\n",
       "  <tbody>\n",
       "    <tr>\n",
       "      <th>0</th>\n",
       "      <td>1</td>\n",
       "      <td>200</td>\n",
       "      <td>100</td>\n",
       "      <td>152</td>\n",
       "      <td>171</td>\n",
       "      <td>181</td>\n",
       "      <td>187</td>\n",
       "      <td>188</td>\n",
       "      <td>188</td>\n",
       "      <td>190</td>\n",
       "      <td>191</td>\n",
       "      <td>192</td>\n",
       "      <td>194</td>\n",
       "      <td>0.607512</td>\n",
       "      <td>0.500</td>\n",
       "    </tr>\n",
       "    <tr>\n",
       "      <th>1</th>\n",
       "      <td>2</td>\n",
       "      <td>200</td>\n",
       "      <td>75</td>\n",
       "      <td>135</td>\n",
       "      <td>166</td>\n",
       "      <td>179</td>\n",
       "      <td>186</td>\n",
       "      <td>187</td>\n",
       "      <td>191</td>\n",
       "      <td>193</td>\n",
       "      <td>194</td>\n",
       "      <td>195</td>\n",
       "      <td>198</td>\n",
       "      <td>0.500726</td>\n",
       "      <td>0.375</td>\n",
       "    </tr>\n",
       "    <tr>\n",
       "      <th>2</th>\n",
       "      <td>3</td>\n",
       "      <td>200</td>\n",
       "      <td>92</td>\n",
       "      <td>126</td>\n",
       "      <td>143</td>\n",
       "      <td>158</td>\n",
       "      <td>172</td>\n",
       "      <td>178</td>\n",
       "      <td>179</td>\n",
       "      <td>181</td>\n",
       "      <td>186</td>\n",
       "      <td>188</td>\n",
       "      <td>190</td>\n",
       "      <td>0.527923</td>\n",
       "      <td>0.460</td>\n",
       "    </tr>\n",
       "  </tbody>\n",
       "</table>\n",
       "</div>"
      ],
      "text/plain": [
       "   task  num_test_cases  cc_top_1  cc_top_5  cc_top_10  cc_top_15  cc_top_20  \\\n",
       "0     1             200       100       152        171        181        187   \n",
       "1     2             200        75       135        166        179        186   \n",
       "2     3             200        92       126        143        158        172   \n",
       "\n",
       "   cc_top_25  cc_top_30  cc_top_35  cc_top_40  cc_top_45  cc_top_50       MRR  \\\n",
       "0        188        188        190        191        192        194  0.607512   \n",
       "1        187        191        193        194        195        198  0.500726   \n",
       "2        178        179        181        186        188        190  0.527923   \n",
       "\n",
       "   recall@1  \n",
       "0     0.500  \n",
       "1     0.375  \n",
       "2     0.460  "
      ]
     },
     "metadata": {},
     "output_type": "display_data"
    },
    {
     "name": "stdout",
     "output_type": "stream",
     "text": [
      "rank_testing_Dataset-2_Trex\n"
     ]
    },
    {
     "data": {
      "text/plain": [
       "MRR         0.607512\n",
       "recall@1    0.500000\n",
       "Name: 0, dtype: float64"
      ]
     },
     "metadata": {},
     "output_type": "display_data"
    },
    {
     "data": {
      "text/plain": [
       "MRR         0.500726\n",
       "recall@1    0.375000\n",
       "Name: 1, dtype: float64"
      ]
     },
     "metadata": {},
     "output_type": "display_data"
    },
    {
     "data": {
      "text/plain": [
       "MRR         0.527923\n",
       "recall@1    0.460000\n",
       "Name: 2, dtype: float64"
      ]
     },
     "metadata": {},
     "output_type": "display_data"
    },
    {
     "name": "stdout",
     "output_type": "stream",
     "text": [
      "\n",
      "\n",
      "Processing pos_rank_testing_Dataset-2_IMM:1.00_MNEM:1.00_GRAPH:1.00.csv\n",
      "0.593125 0.54632578125\n"
     ]
    },
    {
     "data": {
      "text/html": [
       "<div>\n",
       "<style scoped>\n",
       "    .dataframe tbody tr th:only-of-type {\n",
       "        vertical-align: middle;\n",
       "    }\n",
       "\n",
       "    .dataframe tbody tr th {\n",
       "        vertical-align: top;\n",
       "    }\n",
       "\n",
       "    .dataframe thead th {\n",
       "        text-align: right;\n",
       "    }\n",
       "</style>\n",
       "<table border=\"1\" class=\"dataframe\">\n",
       "  <thead>\n",
       "    <tr style=\"text-align: right;\">\n",
       "      <th></th>\n",
       "      <th>task</th>\n",
       "      <th>num_test_cases</th>\n",
       "      <th>cc_top_1</th>\n",
       "      <th>cc_top_5</th>\n",
       "      <th>cc_top_10</th>\n",
       "      <th>cc_top_15</th>\n",
       "      <th>cc_top_20</th>\n",
       "      <th>cc_top_25</th>\n",
       "      <th>cc_top_30</th>\n",
       "      <th>cc_top_35</th>\n",
       "      <th>cc_top_40</th>\n",
       "      <th>cc_top_45</th>\n",
       "      <th>cc_top_50</th>\n",
       "      <th>MRR</th>\n",
       "      <th>recall@1</th>\n",
       "    </tr>\n",
       "  </thead>\n",
       "  <tbody>\n",
       "    <tr>\n",
       "      <th>0</th>\n",
       "      <td>XA</td>\n",
       "      <td>200</td>\n",
       "      <td>19</td>\n",
       "      <td>42</td>\n",
       "      <td>73</td>\n",
       "      <td>87</td>\n",
       "      <td>96</td>\n",
       "      <td>109</td>\n",
       "      <td>119</td>\n",
       "      <td>126</td>\n",
       "      <td>138</td>\n",
       "      <td>146</td>\n",
       "      <td>153</td>\n",
       "      <td>0.158385</td>\n",
       "      <td>0.095</td>\n",
       "    </tr>\n",
       "    <tr>\n",
       "      <th>1</th>\n",
       "      <td>XA+XO</td>\n",
       "      <td>200</td>\n",
       "      <td>27</td>\n",
       "      <td>53</td>\n",
       "      <td>74</td>\n",
       "      <td>87</td>\n",
       "      <td>98</td>\n",
       "      <td>104</td>\n",
       "      <td>116</td>\n",
       "      <td>123</td>\n",
       "      <td>134</td>\n",
       "      <td>139</td>\n",
       "      <td>146</td>\n",
       "      <td>0.199474</td>\n",
       "      <td>0.135</td>\n",
       "    </tr>\n",
       "    <tr>\n",
       "      <th>2</th>\n",
       "      <td>XO</td>\n",
       "      <td>200</td>\n",
       "      <td>46</td>\n",
       "      <td>82</td>\n",
       "      <td>98</td>\n",
       "      <td>108</td>\n",
       "      <td>122</td>\n",
       "      <td>131</td>\n",
       "      <td>135</td>\n",
       "      <td>151</td>\n",
       "      <td>158</td>\n",
       "      <td>165</td>\n",
       "      <td>173</td>\n",
       "      <td>0.301831</td>\n",
       "      <td>0.230</td>\n",
       "    </tr>\n",
       "  </tbody>\n",
       "</table>\n",
       "</div>"
      ],
      "text/plain": [
       "    task  num_test_cases  cc_top_1  cc_top_5  cc_top_10  cc_top_15  cc_top_20  \\\n",
       "0     XA             200        19        42         73         87         96   \n",
       "1  XA+XO             200        27        53         74         87         98   \n",
       "2     XO             200        46        82         98        108        122   \n",
       "\n",
       "   cc_top_25  cc_top_30  cc_top_35  cc_top_40  cc_top_45  cc_top_50       MRR  \\\n",
       "0        109        119        126        138        146        153  0.158385   \n",
       "1        104        116        123        134        139        146  0.199474   \n",
       "2        131        135        151        158        165        173  0.301831   \n",
       "\n",
       "   recall@1  \n",
       "0     0.095  \n",
       "1     0.135  \n",
       "2     0.230  "
      ]
     },
     "metadata": {},
     "output_type": "display_data"
    },
    {
     "name": "stdout",
     "output_type": "stream",
     "text": [
      "rank_testing_Dataset-2_IMM:1.00_MNEM:1.00_GRAPH:1.00\n"
     ]
    },
    {
     "data": {
      "text/plain": [
       "MRR         0.158385\n",
       "recall@1       0.095\n",
       "Name: 0, dtype: object"
      ]
     },
     "metadata": {},
     "output_type": "display_data"
    },
    {
     "data": {
      "text/plain": [
       "MRR         0.199474\n",
       "recall@1       0.135\n",
       "Name: 1, dtype: object"
      ]
     },
     "metadata": {},
     "output_type": "display_data"
    },
    {
     "data": {
      "text/plain": [
       "MRR         0.301831\n",
       "recall@1        0.23\n",
       "Name: 2, dtype: object"
      ]
     },
     "metadata": {},
     "output_type": "display_data"
    },
    {
     "name": "stdout",
     "output_type": "stream",
     "text": [
      "\n",
      "\n",
      "Processing pos_rank_testing_Dataset-2_Zeek.csv\n",
      "0.8433154203150001 0.250410992916975\n"
     ]
    },
    {
     "data": {
      "text/html": [
       "<div>\n",
       "<style scoped>\n",
       "    .dataframe tbody tr th:only-of-type {\n",
       "        vertical-align: middle;\n",
       "    }\n",
       "\n",
       "    .dataframe tbody tr th {\n",
       "        vertical-align: top;\n",
       "    }\n",
       "\n",
       "    .dataframe thead th {\n",
       "        text-align: right;\n",
       "    }\n",
       "</style>\n",
       "<table border=\"1\" class=\"dataframe\">\n",
       "  <thead>\n",
       "    <tr style=\"text-align: right;\">\n",
       "      <th></th>\n",
       "      <th>task</th>\n",
       "      <th>num_test_cases</th>\n",
       "      <th>cc_top_1</th>\n",
       "      <th>cc_top_5</th>\n",
       "      <th>cc_top_10</th>\n",
       "      <th>cc_top_15</th>\n",
       "      <th>cc_top_20</th>\n",
       "      <th>cc_top_25</th>\n",
       "      <th>cc_top_30</th>\n",
       "      <th>cc_top_35</th>\n",
       "      <th>cc_top_40</th>\n",
       "      <th>cc_top_45</th>\n",
       "      <th>cc_top_50</th>\n",
       "      <th>MRR</th>\n",
       "      <th>recall@1</th>\n",
       "    </tr>\n",
       "  </thead>\n",
       "  <tbody>\n",
       "    <tr>\n",
       "      <th>0</th>\n",
       "      <td>1</td>\n",
       "      <td>200</td>\n",
       "      <td>56</td>\n",
       "      <td>129</td>\n",
       "      <td>152</td>\n",
       "      <td>169</td>\n",
       "      <td>176</td>\n",
       "      <td>185</td>\n",
       "      <td>187</td>\n",
       "      <td>188</td>\n",
       "      <td>190</td>\n",
       "      <td>192</td>\n",
       "      <td>193</td>\n",
       "      <td>0.415024</td>\n",
       "      <td>0.280</td>\n",
       "    </tr>\n",
       "    <tr>\n",
       "      <th>1</th>\n",
       "      <td>2</td>\n",
       "      <td>200</td>\n",
       "      <td>61</td>\n",
       "      <td>129</td>\n",
       "      <td>163</td>\n",
       "      <td>175</td>\n",
       "      <td>185</td>\n",
       "      <td>191</td>\n",
       "      <td>194</td>\n",
       "      <td>195</td>\n",
       "      <td>195</td>\n",
       "      <td>196</td>\n",
       "      <td>196</td>\n",
       "      <td>0.454284</td>\n",
       "      <td>0.305</td>\n",
       "    </tr>\n",
       "    <tr>\n",
       "      <th>2</th>\n",
       "      <td>3</td>\n",
       "      <td>200</td>\n",
       "      <td>42</td>\n",
       "      <td>117</td>\n",
       "      <td>148</td>\n",
       "      <td>162</td>\n",
       "      <td>170</td>\n",
       "      <td>176</td>\n",
       "      <td>178</td>\n",
       "      <td>185</td>\n",
       "      <td>188</td>\n",
       "      <td>192</td>\n",
       "      <td>192</td>\n",
       "      <td>0.356452</td>\n",
       "      <td>0.210</td>\n",
       "    </tr>\n",
       "  </tbody>\n",
       "</table>\n",
       "</div>"
      ],
      "text/plain": [
       "   task  num_test_cases  cc_top_1  cc_top_5  cc_top_10  cc_top_15  cc_top_20  \\\n",
       "0     1             200        56       129        152        169        176   \n",
       "1     2             200        61       129        163        175        185   \n",
       "2     3             200        42       117        148        162        170   \n",
       "\n",
       "   cc_top_25  cc_top_30  cc_top_35  cc_top_40  cc_top_45  cc_top_50       MRR  \\\n",
       "0        185        187        188        190        192        193  0.415024   \n",
       "1        191        194        195        195        196        196  0.454284   \n",
       "2        176        178        185        188        192        192  0.356452   \n",
       "\n",
       "   recall@1  \n",
       "0     0.280  \n",
       "1     0.305  \n",
       "2     0.210  "
      ]
     },
     "metadata": {},
     "output_type": "display_data"
    },
    {
     "name": "stdout",
     "output_type": "stream",
     "text": [
      "rank_testing_Dataset-2_Zeek\n"
     ]
    },
    {
     "data": {
      "text/plain": [
       "MRR         0.415024\n",
       "recall@1    0.280000\n",
       "Name: 0, dtype: float64"
      ]
     },
     "metadata": {},
     "output_type": "display_data"
    },
    {
     "data": {
      "text/plain": [
       "MRR         0.454284\n",
       "recall@1    0.305000\n",
       "Name: 1, dtype: float64"
      ]
     },
     "metadata": {},
     "output_type": "display_data"
    },
    {
     "data": {
      "text/plain": [
       "MRR         0.356452\n",
       "recall@1    0.210000\n",
       "Name: 2, dtype: float64"
      ]
     },
     "metadata": {},
     "output_type": "display_data"
    },
    {
     "name": "stdout",
     "output_type": "stream",
     "text": [
      "\n",
      "\n",
      "Processing pos_rank_testing_Dataset-2_GNN-s2v_GeminiNN_NoFeatures_e5.csv\n",
      "0.5818228831783333 0.07064103525037034\n"
     ]
    },
    {
     "data": {
      "text/html": [
       "<div>\n",
       "<style scoped>\n",
       "    .dataframe tbody tr th:only-of-type {\n",
       "        vertical-align: middle;\n",
       "    }\n",
       "\n",
       "    .dataframe tbody tr th {\n",
       "        vertical-align: top;\n",
       "    }\n",
       "\n",
       "    .dataframe thead th {\n",
       "        text-align: right;\n",
       "    }\n",
       "</style>\n",
       "<table border=\"1\" class=\"dataframe\">\n",
       "  <thead>\n",
       "    <tr style=\"text-align: right;\">\n",
       "      <th></th>\n",
       "      <th>task</th>\n",
       "      <th>num_test_cases</th>\n",
       "      <th>cc_top_1</th>\n",
       "      <th>cc_top_5</th>\n",
       "      <th>cc_top_10</th>\n",
       "      <th>cc_top_15</th>\n",
       "      <th>cc_top_20</th>\n",
       "      <th>cc_top_25</th>\n",
       "      <th>cc_top_30</th>\n",
       "      <th>cc_top_35</th>\n",
       "      <th>cc_top_40</th>\n",
       "      <th>cc_top_45</th>\n",
       "      <th>cc_top_50</th>\n",
       "      <th>MRR</th>\n",
       "      <th>recall@1</th>\n",
       "    </tr>\n",
       "  </thead>\n",
       "  <tbody>\n",
       "    <tr>\n",
       "      <th>0</th>\n",
       "      <td>1</td>\n",
       "      <td>200</td>\n",
       "      <td>23</td>\n",
       "      <td>49</td>\n",
       "      <td>75</td>\n",
       "      <td>84</td>\n",
       "      <td>94</td>\n",
       "      <td>106</td>\n",
       "      <td>125</td>\n",
       "      <td>140</td>\n",
       "      <td>153</td>\n",
       "      <td>159</td>\n",
       "      <td>166</td>\n",
       "      <td>0.177333</td>\n",
       "      <td>0.115</td>\n",
       "    </tr>\n",
       "    <tr>\n",
       "      <th>1</th>\n",
       "      <td>2</td>\n",
       "      <td>200</td>\n",
       "      <td>25</td>\n",
       "      <td>62</td>\n",
       "      <td>81</td>\n",
       "      <td>89</td>\n",
       "      <td>101</td>\n",
       "      <td>113</td>\n",
       "      <td>121</td>\n",
       "      <td>132</td>\n",
       "      <td>144</td>\n",
       "      <td>154</td>\n",
       "      <td>161</td>\n",
       "      <td>0.199875</td>\n",
       "      <td>0.125</td>\n",
       "    </tr>\n",
       "    <tr>\n",
       "      <th>2</th>\n",
       "      <td>3</td>\n",
       "      <td>200</td>\n",
       "      <td>31</td>\n",
       "      <td>65</td>\n",
       "      <td>91</td>\n",
       "      <td>106</td>\n",
       "      <td>112</td>\n",
       "      <td>123</td>\n",
       "      <td>130</td>\n",
       "      <td>138</td>\n",
       "      <td>146</td>\n",
       "      <td>155</td>\n",
       "      <td>162</td>\n",
       "      <td>0.231339</td>\n",
       "      <td>0.155</td>\n",
       "    </tr>\n",
       "  </tbody>\n",
       "</table>\n",
       "</div>"
      ],
      "text/plain": [
       "   task  num_test_cases  cc_top_1  cc_top_5  cc_top_10  cc_top_15  cc_top_20  \\\n",
       "0     1             200        23        49         75         84         94   \n",
       "1     2             200        25        62         81         89        101   \n",
       "2     3             200        31        65         91        106        112   \n",
       "\n",
       "   cc_top_25  cc_top_30  cc_top_35  cc_top_40  cc_top_45  cc_top_50       MRR  \\\n",
       "0        106        125        140        153        159        166  0.177333   \n",
       "1        113        121        132        144        154        161  0.199875   \n",
       "2        123        130        138        146        155        162  0.231339   \n",
       "\n",
       "   recall@1  \n",
       "0     0.115  \n",
       "1     0.125  \n",
       "2     0.155  "
      ]
     },
     "metadata": {},
     "output_type": "display_data"
    },
    {
     "name": "stdout",
     "output_type": "stream",
     "text": [
      "rank_testing_Dataset-2_GNN-s2v_GeminiNN_NoFeatures_e5\n"
     ]
    },
    {
     "data": {
      "text/plain": [
       "MRR         0.177333\n",
       "recall@1    0.115000\n",
       "Name: 0, dtype: float64"
      ]
     },
     "metadata": {},
     "output_type": "display_data"
    },
    {
     "data": {
      "text/plain": [
       "MRR         0.199875\n",
       "recall@1    0.125000\n",
       "Name: 1, dtype: float64"
      ]
     },
     "metadata": {},
     "output_type": "display_data"
    },
    {
     "data": {
      "text/plain": [
       "MRR         0.231339\n",
       "recall@1    0.155000\n",
       "Name: 2, dtype: float64"
      ]
     },
     "metadata": {},
     "output_type": "display_data"
    },
    {
     "name": "stdout",
     "output_type": "stream",
     "text": [
      "\n",
      "\n",
      "Processing pos_rank_testing_Dataset-2_GNN-s2v_RNN_ASM_e7.csv\n",
      "0.3684139767936 -0.12886565391437324\n"
     ]
    },
    {
     "data": {
      "text/html": [
       "<div>\n",
       "<style scoped>\n",
       "    .dataframe tbody tr th:only-of-type {\n",
       "        vertical-align: middle;\n",
       "    }\n",
       "\n",
       "    .dataframe tbody tr th {\n",
       "        vertical-align: top;\n",
       "    }\n",
       "\n",
       "    .dataframe thead th {\n",
       "        text-align: right;\n",
       "    }\n",
       "</style>\n",
       "<table border=\"1\" class=\"dataframe\">\n",
       "  <thead>\n",
       "    <tr style=\"text-align: right;\">\n",
       "      <th></th>\n",
       "      <th>task</th>\n",
       "      <th>num_test_cases</th>\n",
       "      <th>cc_top_1</th>\n",
       "      <th>cc_top_5</th>\n",
       "      <th>cc_top_10</th>\n",
       "      <th>cc_top_15</th>\n",
       "      <th>cc_top_20</th>\n",
       "      <th>cc_top_25</th>\n",
       "      <th>cc_top_30</th>\n",
       "      <th>cc_top_35</th>\n",
       "      <th>cc_top_40</th>\n",
       "      <th>cc_top_45</th>\n",
       "      <th>cc_top_50</th>\n",
       "      <th>MRR</th>\n",
       "      <th>recall@1</th>\n",
       "    </tr>\n",
       "  </thead>\n",
       "  <tbody>\n",
       "    <tr>\n",
       "      <th>0</th>\n",
       "      <td>1</td>\n",
       "      <td>200</td>\n",
       "      <td>37</td>\n",
       "      <td>102</td>\n",
       "      <td>134</td>\n",
       "      <td>158</td>\n",
       "      <td>168</td>\n",
       "      <td>176</td>\n",
       "      <td>179</td>\n",
       "      <td>180</td>\n",
       "      <td>183</td>\n",
       "      <td>187</td>\n",
       "      <td>190</td>\n",
       "      <td>0.319742</td>\n",
       "      <td>0.185</td>\n",
       "    </tr>\n",
       "    <tr>\n",
       "      <th>1</th>\n",
       "      <td>2</td>\n",
       "      <td>200</td>\n",
       "      <td>36</td>\n",
       "      <td>111</td>\n",
       "      <td>147</td>\n",
       "      <td>160</td>\n",
       "      <td>176</td>\n",
       "      <td>182</td>\n",
       "      <td>186</td>\n",
       "      <td>190</td>\n",
       "      <td>193</td>\n",
       "      <td>197</td>\n",
       "      <td>197</td>\n",
       "      <td>0.348812</td>\n",
       "      <td>0.180</td>\n",
       "    </tr>\n",
       "    <tr>\n",
       "      <th>2</th>\n",
       "      <td>3</td>\n",
       "      <td>200</td>\n",
       "      <td>45</td>\n",
       "      <td>104</td>\n",
       "      <td>130</td>\n",
       "      <td>148</td>\n",
       "      <td>159</td>\n",
       "      <td>167</td>\n",
       "      <td>174</td>\n",
       "      <td>183</td>\n",
       "      <td>185</td>\n",
       "      <td>187</td>\n",
       "      <td>188</td>\n",
       "      <td>0.347129</td>\n",
       "      <td>0.225</td>\n",
       "    </tr>\n",
       "  </tbody>\n",
       "</table>\n",
       "</div>"
      ],
      "text/plain": [
       "   task  num_test_cases  cc_top_1  cc_top_5  cc_top_10  cc_top_15  cc_top_20  \\\n",
       "0     1             200        37       102        134        158        168   \n",
       "1     2             200        36       111        147        160        176   \n",
       "2     3             200        45       104        130        148        159   \n",
       "\n",
       "   cc_top_25  cc_top_30  cc_top_35  cc_top_40  cc_top_45  cc_top_50       MRR  \\\n",
       "0        176        179        180        183        187        190  0.319742   \n",
       "1        182        186        190        193        197        197  0.348812   \n",
       "2        167        174        183        185        187        188  0.347129   \n",
       "\n",
       "   recall@1  \n",
       "0     0.185  \n",
       "1     0.180  \n",
       "2     0.225  "
      ]
     },
     "metadata": {},
     "output_type": "display_data"
    },
    {
     "name": "stdout",
     "output_type": "stream",
     "text": [
      "rank_testing_Dataset-2_GNN-s2v_RNN_ASM_e7\n"
     ]
    },
    {
     "data": {
      "text/plain": [
       "MRR         0.319742\n",
       "recall@1    0.185000\n",
       "Name: 0, dtype: float64"
      ]
     },
     "metadata": {},
     "output_type": "display_data"
    },
    {
     "data": {
      "text/plain": [
       "MRR         0.348812\n",
       "recall@1    0.180000\n",
       "Name: 1, dtype: float64"
      ]
     },
     "metadata": {},
     "output_type": "display_data"
    },
    {
     "data": {
      "text/plain": [
       "MRR         0.347129\n",
       "recall@1    0.225000\n",
       "Name: 2, dtype: float64"
      ]
     },
     "metadata": {},
     "output_type": "display_data"
    },
    {
     "name": "stdout",
     "output_type": "stream",
     "text": [
      "\n",
      "\n",
      "Processing pos_rank_testing_Dataset-2_GNN-s2v_GeminiNN_GeminiFeatures_e5.csv\n",
      "0.7897264380288334 0.05200536373876809\n"
     ]
    },
    {
     "data": {
      "text/html": [
       "<div>\n",
       "<style scoped>\n",
       "    .dataframe tbody tr th:only-of-type {\n",
       "        vertical-align: middle;\n",
       "    }\n",
       "\n",
       "    .dataframe tbody tr th {\n",
       "        vertical-align: top;\n",
       "    }\n",
       "\n",
       "    .dataframe thead th {\n",
       "        text-align: right;\n",
       "    }\n",
       "</style>\n",
       "<table border=\"1\" class=\"dataframe\">\n",
       "  <thead>\n",
       "    <tr style=\"text-align: right;\">\n",
       "      <th></th>\n",
       "      <th>task</th>\n",
       "      <th>num_test_cases</th>\n",
       "      <th>cc_top_1</th>\n",
       "      <th>cc_top_5</th>\n",
       "      <th>cc_top_10</th>\n",
       "      <th>cc_top_15</th>\n",
       "      <th>cc_top_20</th>\n",
       "      <th>cc_top_25</th>\n",
       "      <th>cc_top_30</th>\n",
       "      <th>cc_top_35</th>\n",
       "      <th>cc_top_40</th>\n",
       "      <th>cc_top_45</th>\n",
       "      <th>cc_top_50</th>\n",
       "      <th>MRR</th>\n",
       "      <th>recall@1</th>\n",
       "    </tr>\n",
       "  </thead>\n",
       "  <tbody>\n",
       "    <tr>\n",
       "      <th>0</th>\n",
       "      <td>1</td>\n",
       "      <td>200</td>\n",
       "      <td>94</td>\n",
       "      <td>138</td>\n",
       "      <td>159</td>\n",
       "      <td>166</td>\n",
       "      <td>171</td>\n",
       "      <td>178</td>\n",
       "      <td>186</td>\n",
       "      <td>188</td>\n",
       "      <td>190</td>\n",
       "      <td>191</td>\n",
       "      <td>192</td>\n",
       "      <td>0.569950</td>\n",
       "      <td>0.470</td>\n",
       "    </tr>\n",
       "    <tr>\n",
       "      <th>1</th>\n",
       "      <td>2</td>\n",
       "      <td>200</td>\n",
       "      <td>127</td>\n",
       "      <td>180</td>\n",
       "      <td>191</td>\n",
       "      <td>194</td>\n",
       "      <td>195</td>\n",
       "      <td>197</td>\n",
       "      <td>198</td>\n",
       "      <td>199</td>\n",
       "      <td>200</td>\n",
       "      <td>200</td>\n",
       "      <td>200</td>\n",
       "      <td>0.740990</td>\n",
       "      <td>0.635</td>\n",
       "    </tr>\n",
       "    <tr>\n",
       "      <th>2</th>\n",
       "      <td>3</td>\n",
       "      <td>200</td>\n",
       "      <td>98</td>\n",
       "      <td>134</td>\n",
       "      <td>152</td>\n",
       "      <td>164</td>\n",
       "      <td>171</td>\n",
       "      <td>176</td>\n",
       "      <td>184</td>\n",
       "      <td>186</td>\n",
       "      <td>188</td>\n",
       "      <td>191</td>\n",
       "      <td>193</td>\n",
       "      <td>0.573058</td>\n",
       "      <td>0.490</td>\n",
       "    </tr>\n",
       "  </tbody>\n",
       "</table>\n",
       "</div>"
      ],
      "text/plain": [
       "   task  num_test_cases  cc_top_1  cc_top_5  cc_top_10  cc_top_15  cc_top_20  \\\n",
       "0     1             200        94       138        159        166        171   \n",
       "1     2             200       127       180        191        194        195   \n",
       "2     3             200        98       134        152        164        171   \n",
       "\n",
       "   cc_top_25  cc_top_30  cc_top_35  cc_top_40  cc_top_45  cc_top_50       MRR  \\\n",
       "0        178        186        188        190        191        192  0.569950   \n",
       "1        197        198        199        200        200        200  0.740990   \n",
       "2        176        184        186        188        191        193  0.573058   \n",
       "\n",
       "   recall@1  \n",
       "0     0.470  \n",
       "1     0.635  \n",
       "2     0.490  "
      ]
     },
     "metadata": {},
     "output_type": "display_data"
    },
    {
     "name": "stdout",
     "output_type": "stream",
     "text": [
      "rank_testing_Dataset-2_GNN-s2v_GeminiNN_GeminiFeatures_e5\n"
     ]
    },
    {
     "data": {
      "text/plain": [
       "MRR         0.56995\n",
       "recall@1    0.47000\n",
       "Name: 0, dtype: float64"
      ]
     },
     "metadata": {},
     "output_type": "display_data"
    },
    {
     "data": {
      "text/plain": [
       "MRR         0.74099\n",
       "recall@1    0.63500\n",
       "Name: 1, dtype: float64"
      ]
     },
     "metadata": {},
     "output_type": "display_data"
    },
    {
     "data": {
      "text/plain": [
       "MRR         0.573058\n",
       "recall@1    0.490000\n",
       "Name: 2, dtype: float64"
      ]
     },
     "metadata": {},
     "output_type": "display_data"
    },
    {
     "name": "stdout",
     "output_type": "stream",
     "text": [
      "\n",
      "\n",
      "Processing pos_rank_testing_Dataset-2_SAFE_ASM-list_Rand_Trainable_e10.csv\n",
      "0.43983728911 -0.5606094369772907\n"
     ]
    },
    {
     "data": {
      "text/html": [
       "<div>\n",
       "<style scoped>\n",
       "    .dataframe tbody tr th:only-of-type {\n",
       "        vertical-align: middle;\n",
       "    }\n",
       "\n",
       "    .dataframe tbody tr th {\n",
       "        vertical-align: top;\n",
       "    }\n",
       "\n",
       "    .dataframe thead th {\n",
       "        text-align: right;\n",
       "    }\n",
       "</style>\n",
       "<table border=\"1\" class=\"dataframe\">\n",
       "  <thead>\n",
       "    <tr style=\"text-align: right;\">\n",
       "      <th></th>\n",
       "      <th>task</th>\n",
       "      <th>num_test_cases</th>\n",
       "      <th>cc_top_1</th>\n",
       "      <th>cc_top_5</th>\n",
       "      <th>cc_top_10</th>\n",
       "      <th>cc_top_15</th>\n",
       "      <th>cc_top_20</th>\n",
       "      <th>cc_top_25</th>\n",
       "      <th>cc_top_30</th>\n",
       "      <th>cc_top_35</th>\n",
       "      <th>cc_top_40</th>\n",
       "      <th>cc_top_45</th>\n",
       "      <th>cc_top_50</th>\n",
       "      <th>MRR</th>\n",
       "      <th>recall@1</th>\n",
       "    </tr>\n",
       "  </thead>\n",
       "  <tbody>\n",
       "    <tr>\n",
       "      <th>0</th>\n",
       "      <td>1</td>\n",
       "      <td>200</td>\n",
       "      <td>27</td>\n",
       "      <td>97</td>\n",
       "      <td>128</td>\n",
       "      <td>152</td>\n",
       "      <td>163</td>\n",
       "      <td>171</td>\n",
       "      <td>175</td>\n",
       "      <td>180</td>\n",
       "      <td>181</td>\n",
       "      <td>182</td>\n",
       "      <td>185</td>\n",
       "      <td>0.282762</td>\n",
       "      <td>0.135</td>\n",
       "    </tr>\n",
       "    <tr>\n",
       "      <th>1</th>\n",
       "      <td>2</td>\n",
       "      <td>200</td>\n",
       "      <td>33</td>\n",
       "      <td>115</td>\n",
       "      <td>152</td>\n",
       "      <td>170</td>\n",
       "      <td>177</td>\n",
       "      <td>181</td>\n",
       "      <td>187</td>\n",
       "      <td>189</td>\n",
       "      <td>193</td>\n",
       "      <td>195</td>\n",
       "      <td>198</td>\n",
       "      <td>0.332353</td>\n",
       "      <td>0.165</td>\n",
       "    </tr>\n",
       "    <tr>\n",
       "      <th>2</th>\n",
       "      <td>3</td>\n",
       "      <td>200</td>\n",
       "      <td>41</td>\n",
       "      <td>89</td>\n",
       "      <td>131</td>\n",
       "      <td>146</td>\n",
       "      <td>160</td>\n",
       "      <td>167</td>\n",
       "      <td>174</td>\n",
       "      <td>179</td>\n",
       "      <td>180</td>\n",
       "      <td>182</td>\n",
       "      <td>186</td>\n",
       "      <td>0.309502</td>\n",
       "      <td>0.205</td>\n",
       "    </tr>\n",
       "  </tbody>\n",
       "</table>\n",
       "</div>"
      ],
      "text/plain": [
       "   task  num_test_cases  cc_top_1  cc_top_5  cc_top_10  cc_top_15  cc_top_20  \\\n",
       "0     1             200        27        97        128        152        163   \n",
       "1     2             200        33       115        152        170        177   \n",
       "2     3             200        41        89        131        146        160   \n",
       "\n",
       "   cc_top_25  cc_top_30  cc_top_35  cc_top_40  cc_top_45  cc_top_50       MRR  \\\n",
       "0        171        175        180        181        182        185  0.282762   \n",
       "1        181        187        189        193        195        198  0.332353   \n",
       "2        167        174        179        180        182        186  0.309502   \n",
       "\n",
       "   recall@1  \n",
       "0     0.135  \n",
       "1     0.165  \n",
       "2     0.205  "
      ]
     },
     "metadata": {},
     "output_type": "display_data"
    },
    {
     "name": "stdout",
     "output_type": "stream",
     "text": [
      "rank_testing_Dataset-2_SAFE_ASM-list_Rand_Trainable_e10\n"
     ]
    },
    {
     "data": {
      "text/plain": [
       "MRR         0.282762\n",
       "recall@1    0.135000\n",
       "Name: 0, dtype: float64"
      ]
     },
     "metadata": {},
     "output_type": "display_data"
    },
    {
     "data": {
      "text/plain": [
       "MRR         0.332353\n",
       "recall@1    0.165000\n",
       "Name: 1, dtype: float64"
      ]
     },
     "metadata": {},
     "output_type": "display_data"
    },
    {
     "data": {
      "text/plain": [
       "MRR         0.309502\n",
       "recall@1    0.205000\n",
       "Name: 2, dtype: float64"
      ]
     },
     "metadata": {},
     "output_type": "display_data"
    },
    {
     "name": "stdout",
     "output_type": "stream",
     "text": [
      "\n",
      "\n",
      "Processing pos_rank_testing_Dataset-2_catalog1_32.csv\n",
      "0.02391061084872201 0.003371267345890956\n"
     ]
    },
    {
     "data": {
      "text/html": [
       "<div>\n",
       "<style scoped>\n",
       "    .dataframe tbody tr th:only-of-type {\n",
       "        vertical-align: middle;\n",
       "    }\n",
       "\n",
       "    .dataframe tbody tr th {\n",
       "        vertical-align: top;\n",
       "    }\n",
       "\n",
       "    .dataframe thead th {\n",
       "        text-align: right;\n",
       "    }\n",
       "</style>\n",
       "<table border=\"1\" class=\"dataframe\">\n",
       "  <thead>\n",
       "    <tr style=\"text-align: right;\">\n",
       "      <th></th>\n",
       "      <th>task</th>\n",
       "      <th>num_test_cases</th>\n",
       "      <th>cc_top_1</th>\n",
       "      <th>cc_top_5</th>\n",
       "      <th>cc_top_10</th>\n",
       "      <th>cc_top_15</th>\n",
       "      <th>cc_top_20</th>\n",
       "      <th>cc_top_25</th>\n",
       "      <th>cc_top_30</th>\n",
       "      <th>cc_top_35</th>\n",
       "      <th>cc_top_40</th>\n",
       "      <th>cc_top_45</th>\n",
       "      <th>cc_top_50</th>\n",
       "      <th>MRR</th>\n",
       "      <th>recall@1</th>\n",
       "    </tr>\n",
       "  </thead>\n",
       "  <tbody>\n",
       "    <tr>\n",
       "      <th>0</th>\n",
       "      <td>XA</td>\n",
       "      <td>200</td>\n",
       "      <td>14</td>\n",
       "      <td>22</td>\n",
       "      <td>23</td>\n",
       "      <td>24</td>\n",
       "      <td>25</td>\n",
       "      <td>25</td>\n",
       "      <td>25</td>\n",
       "      <td>25</td>\n",
       "      <td>25</td>\n",
       "      <td>25</td>\n",
       "      <td>25</td>\n",
       "      <td>0.085792</td>\n",
       "      <td>0.070</td>\n",
       "    </tr>\n",
       "    <tr>\n",
       "      <th>1</th>\n",
       "      <td>XA+XO</td>\n",
       "      <td>200</td>\n",
       "      <td>34</td>\n",
       "      <td>44</td>\n",
       "      <td>48</td>\n",
       "      <td>48</td>\n",
       "      <td>48</td>\n",
       "      <td>48</td>\n",
       "      <td>48</td>\n",
       "      <td>48</td>\n",
       "      <td>48</td>\n",
       "      <td>48</td>\n",
       "      <td>48</td>\n",
       "      <td>0.193214</td>\n",
       "      <td>0.170</td>\n",
       "    </tr>\n",
       "    <tr>\n",
       "      <th>2</th>\n",
       "      <td>XO</td>\n",
       "      <td>200</td>\n",
       "      <td>77</td>\n",
       "      <td>118</td>\n",
       "      <td>138</td>\n",
       "      <td>141</td>\n",
       "      <td>143</td>\n",
       "      <td>144</td>\n",
       "      <td>144</td>\n",
       "      <td>144</td>\n",
       "      <td>144</td>\n",
       "      <td>144</td>\n",
       "      <td>144</td>\n",
       "      <td>0.471500</td>\n",
       "      <td>0.385</td>\n",
       "    </tr>\n",
       "  </tbody>\n",
       "</table>\n",
       "</div>"
      ],
      "text/plain": [
       "    task  num_test_cases  cc_top_1  cc_top_5  cc_top_10  cc_top_15  cc_top_20  \\\n",
       "0     XA             200        14        22         23         24         25   \n",
       "1  XA+XO             200        34        44         48         48         48   \n",
       "2     XO             200        77       118        138        141        143   \n",
       "\n",
       "   cc_top_25  cc_top_30  cc_top_35  cc_top_40  cc_top_45  cc_top_50       MRR  \\\n",
       "0         25         25         25         25         25         25  0.085792   \n",
       "1         48         48         48         48         48         48  0.193214   \n",
       "2        144        144        144        144        144        144  0.471500   \n",
       "\n",
       "   recall@1  \n",
       "0     0.070  \n",
       "1     0.170  \n",
       "2     0.385  "
      ]
     },
     "metadata": {},
     "output_type": "display_data"
    },
    {
     "name": "stdout",
     "output_type": "stream",
     "text": [
      "rank_testing_Dataset-2_catalog1_32\n"
     ]
    },
    {
     "data": {
      "text/plain": [
       "MRR         0.085792\n",
       "recall@1        0.07\n",
       "Name: 0, dtype: object"
      ]
     },
     "metadata": {},
     "output_type": "display_data"
    },
    {
     "data": {
      "text/plain": [
       "MRR         0.193214\n",
       "recall@1        0.17\n",
       "Name: 1, dtype: object"
      ]
     },
     "metadata": {},
     "output_type": "display_data"
    },
    {
     "data": {
      "text/plain": [
       "MRR         0.4715\n",
       "recall@1     0.385\n",
       "Name: 2, dtype: object"
      ]
     },
     "metadata": {},
     "output_type": "display_data"
    },
    {
     "name": "stdout",
     "output_type": "stream",
     "text": [
      "\n",
      "\n",
      "Processing pos_rank_testing_Dataset-2_IMM:4.00_MNEM:0.05_GRAPH:1.00.csv\n",
      "0.6152994791666667 0.5333334635416667\n"
     ]
    },
    {
     "data": {
      "text/html": [
       "<div>\n",
       "<style scoped>\n",
       "    .dataframe tbody tr th:only-of-type {\n",
       "        vertical-align: middle;\n",
       "    }\n",
       "\n",
       "    .dataframe tbody tr th {\n",
       "        vertical-align: top;\n",
       "    }\n",
       "\n",
       "    .dataframe thead th {\n",
       "        text-align: right;\n",
       "    }\n",
       "</style>\n",
       "<table border=\"1\" class=\"dataframe\">\n",
       "  <thead>\n",
       "    <tr style=\"text-align: right;\">\n",
       "      <th></th>\n",
       "      <th>task</th>\n",
       "      <th>num_test_cases</th>\n",
       "      <th>cc_top_1</th>\n",
       "      <th>cc_top_5</th>\n",
       "      <th>cc_top_10</th>\n",
       "      <th>cc_top_15</th>\n",
       "      <th>cc_top_20</th>\n",
       "      <th>cc_top_25</th>\n",
       "      <th>cc_top_30</th>\n",
       "      <th>cc_top_35</th>\n",
       "      <th>cc_top_40</th>\n",
       "      <th>cc_top_45</th>\n",
       "      <th>cc_top_50</th>\n",
       "      <th>MRR</th>\n",
       "      <th>recall@1</th>\n",
       "    </tr>\n",
       "  </thead>\n",
       "  <tbody>\n",
       "    <tr>\n",
       "      <th>0</th>\n",
       "      <td>XA</td>\n",
       "      <td>200</td>\n",
       "      <td>45</td>\n",
       "      <td>78</td>\n",
       "      <td>106</td>\n",
       "      <td>123</td>\n",
       "      <td>130</td>\n",
       "      <td>140</td>\n",
       "      <td>144</td>\n",
       "      <td>147</td>\n",
       "      <td>157</td>\n",
       "      <td>159</td>\n",
       "      <td>168</td>\n",
       "      <td>0.304218</td>\n",
       "      <td>0.225</td>\n",
       "    </tr>\n",
       "    <tr>\n",
       "      <th>1</th>\n",
       "      <td>XA+XO</td>\n",
       "      <td>200</td>\n",
       "      <td>57</td>\n",
       "      <td>88</td>\n",
       "      <td>107</td>\n",
       "      <td>119</td>\n",
       "      <td>130</td>\n",
       "      <td>144</td>\n",
       "      <td>155</td>\n",
       "      <td>163</td>\n",
       "      <td>167</td>\n",
       "      <td>175</td>\n",
       "      <td>178</td>\n",
       "      <td>0.357482</td>\n",
       "      <td>0.285</td>\n",
       "    </tr>\n",
       "    <tr>\n",
       "      <th>2</th>\n",
       "      <td>XO</td>\n",
       "      <td>200</td>\n",
       "      <td>71</td>\n",
       "      <td>104</td>\n",
       "      <td>118</td>\n",
       "      <td>129</td>\n",
       "      <td>134</td>\n",
       "      <td>141</td>\n",
       "      <td>149</td>\n",
       "      <td>156</td>\n",
       "      <td>164</td>\n",
       "      <td>166</td>\n",
       "      <td>170</td>\n",
       "      <td>0.425532</td>\n",
       "      <td>0.355</td>\n",
       "    </tr>\n",
       "  </tbody>\n",
       "</table>\n",
       "</div>"
      ],
      "text/plain": [
       "    task  num_test_cases  cc_top_1  cc_top_5  cc_top_10  cc_top_15  cc_top_20  \\\n",
       "0     XA             200        45        78        106        123        130   \n",
       "1  XA+XO             200        57        88        107        119        130   \n",
       "2     XO             200        71       104        118        129        134   \n",
       "\n",
       "   cc_top_25  cc_top_30  cc_top_35  cc_top_40  cc_top_45  cc_top_50       MRR  \\\n",
       "0        140        144        147        157        159        168  0.304218   \n",
       "1        144        155        163        167        175        178  0.357482   \n",
       "2        141        149        156        164        166        170  0.425532   \n",
       "\n",
       "   recall@1  \n",
       "0     0.225  \n",
       "1     0.285  \n",
       "2     0.355  "
      ]
     },
     "metadata": {},
     "output_type": "display_data"
    },
    {
     "name": "stdout",
     "output_type": "stream",
     "text": [
      "rank_testing_Dataset-2_IMM:4.00_MNEM:0.05_GRAPH:1.00\n"
     ]
    },
    {
     "data": {
      "text/plain": [
       "MRR         0.304218\n",
       "recall@1       0.225\n",
       "Name: 0, dtype: object"
      ]
     },
     "metadata": {},
     "output_type": "display_data"
    },
    {
     "data": {
      "text/plain": [
       "MRR         0.357482\n",
       "recall@1       0.285\n",
       "Name: 1, dtype: object"
      ]
     },
     "metadata": {},
     "output_type": "display_data"
    },
    {
     "data": {
      "text/plain": [
       "MRR         0.425532\n",
       "recall@1       0.355\n",
       "Name: 2, dtype: object"
      ]
     },
     "metadata": {},
     "output_type": "display_data"
    },
    {
     "name": "stdout",
     "output_type": "stream",
     "text": [
      "\n",
      "\n",
      "Processing pos_rank_testing_Dataset-2_IMM:0.00_MNEM:1.00_GRAPH:1.00.csv\n",
      "0.5947005208333334 0.54725\n"
     ]
    },
    {
     "data": {
      "text/html": [
       "<div>\n",
       "<style scoped>\n",
       "    .dataframe tbody tr th:only-of-type {\n",
       "        vertical-align: middle;\n",
       "    }\n",
       "\n",
       "    .dataframe tbody tr th {\n",
       "        vertical-align: top;\n",
       "    }\n",
       "\n",
       "    .dataframe thead th {\n",
       "        text-align: right;\n",
       "    }\n",
       "</style>\n",
       "<table border=\"1\" class=\"dataframe\">\n",
       "  <thead>\n",
       "    <tr style=\"text-align: right;\">\n",
       "      <th></th>\n",
       "      <th>task</th>\n",
       "      <th>num_test_cases</th>\n",
       "      <th>cc_top_1</th>\n",
       "      <th>cc_top_5</th>\n",
       "      <th>cc_top_10</th>\n",
       "      <th>cc_top_15</th>\n",
       "      <th>cc_top_20</th>\n",
       "      <th>cc_top_25</th>\n",
       "      <th>cc_top_30</th>\n",
       "      <th>cc_top_35</th>\n",
       "      <th>cc_top_40</th>\n",
       "      <th>cc_top_45</th>\n",
       "      <th>cc_top_50</th>\n",
       "      <th>MRR</th>\n",
       "      <th>recall@1</th>\n",
       "    </tr>\n",
       "  </thead>\n",
       "  <tbody>\n",
       "    <tr>\n",
       "      <th>0</th>\n",
       "      <td>XA</td>\n",
       "      <td>200</td>\n",
       "      <td>17</td>\n",
       "      <td>48</td>\n",
       "      <td>67</td>\n",
       "      <td>81</td>\n",
       "      <td>99</td>\n",
       "      <td>114</td>\n",
       "      <td>123</td>\n",
       "      <td>129</td>\n",
       "      <td>140</td>\n",
       "      <td>151</td>\n",
       "      <td>156</td>\n",
       "      <td>0.149855</td>\n",
       "      <td>0.085</td>\n",
       "    </tr>\n",
       "    <tr>\n",
       "      <th>1</th>\n",
       "      <td>XA+XO</td>\n",
       "      <td>200</td>\n",
       "      <td>29</td>\n",
       "      <td>59</td>\n",
       "      <td>73</td>\n",
       "      <td>86</td>\n",
       "      <td>95</td>\n",
       "      <td>102</td>\n",
       "      <td>112</td>\n",
       "      <td>125</td>\n",
       "      <td>134</td>\n",
       "      <td>140</td>\n",
       "      <td>142</td>\n",
       "      <td>0.205790</td>\n",
       "      <td>0.145</td>\n",
       "    </tr>\n",
       "    <tr>\n",
       "      <th>2</th>\n",
       "      <td>XO</td>\n",
       "      <td>200</td>\n",
       "      <td>46</td>\n",
       "      <td>75</td>\n",
       "      <td>90</td>\n",
       "      <td>109</td>\n",
       "      <td>120</td>\n",
       "      <td>129</td>\n",
       "      <td>139</td>\n",
       "      <td>151</td>\n",
       "      <td>158</td>\n",
       "      <td>164</td>\n",
       "      <td>170</td>\n",
       "      <td>0.289071</td>\n",
       "      <td>0.230</td>\n",
       "    </tr>\n",
       "  </tbody>\n",
       "</table>\n",
       "</div>"
      ],
      "text/plain": [
       "    task  num_test_cases  cc_top_1  cc_top_5  cc_top_10  cc_top_15  cc_top_20  \\\n",
       "0     XA             200        17        48         67         81         99   \n",
       "1  XA+XO             200        29        59         73         86         95   \n",
       "2     XO             200        46        75         90        109        120   \n",
       "\n",
       "   cc_top_25  cc_top_30  cc_top_35  cc_top_40  cc_top_45  cc_top_50       MRR  \\\n",
       "0        114        123        129        140        151        156  0.149855   \n",
       "1        102        112        125        134        140        142  0.205790   \n",
       "2        129        139        151        158        164        170  0.289071   \n",
       "\n",
       "   recall@1  \n",
       "0     0.085  \n",
       "1     0.145  \n",
       "2     0.230  "
      ]
     },
     "metadata": {},
     "output_type": "display_data"
    },
    {
     "name": "stdout",
     "output_type": "stream",
     "text": [
      "rank_testing_Dataset-2_IMM:0.00_MNEM:1.00_GRAPH:1.00\n"
     ]
    },
    {
     "data": {
      "text/plain": [
       "MRR         0.149855\n",
       "recall@1       0.085\n",
       "Name: 0, dtype: object"
      ]
     },
     "metadata": {},
     "output_type": "display_data"
    },
    {
     "data": {
      "text/plain": [
       "MRR         0.20579\n",
       "recall@1      0.145\n",
       "Name: 1, dtype: object"
      ]
     },
     "metadata": {},
     "output_type": "display_data"
    },
    {
     "data": {
      "text/plain": [
       "MRR         0.289071\n",
       "recall@1        0.23\n",
       "Name: 2, dtype: object"
      ]
     },
     "metadata": {},
     "output_type": "display_data"
    },
    {
     "name": "stdout",
     "output_type": "stream",
     "text": [
      "\n",
      "\n",
      "Processing pos_rank_testing_Dataset-2_asm2vec_e10.csv\n",
      "0.29192020466353796 0.13485785988781598\n"
     ]
    },
    {
     "data": {
      "text/html": [
       "<div>\n",
       "<style scoped>\n",
       "    .dataframe tbody tr th:only-of-type {\n",
       "        vertical-align: middle;\n",
       "    }\n",
       "\n",
       "    .dataframe tbody tr th {\n",
       "        vertical-align: top;\n",
       "    }\n",
       "\n",
       "    .dataframe thead th {\n",
       "        text-align: right;\n",
       "    }\n",
       "</style>\n",
       "<table border=\"1\" class=\"dataframe\">\n",
       "  <thead>\n",
       "    <tr style=\"text-align: right;\">\n",
       "      <th></th>\n",
       "      <th>task</th>\n",
       "      <th>num_test_cases</th>\n",
       "      <th>cc_top_1</th>\n",
       "      <th>cc_top_5</th>\n",
       "      <th>cc_top_10</th>\n",
       "      <th>cc_top_15</th>\n",
       "      <th>cc_top_20</th>\n",
       "      <th>cc_top_25</th>\n",
       "      <th>cc_top_30</th>\n",
       "      <th>cc_top_35</th>\n",
       "      <th>cc_top_40</th>\n",
       "      <th>cc_top_45</th>\n",
       "      <th>cc_top_50</th>\n",
       "      <th>MRR</th>\n",
       "      <th>recall@1</th>\n",
       "    </tr>\n",
       "  </thead>\n",
       "  <tbody>\n",
       "    <tr>\n",
       "      <th>0</th>\n",
       "      <td>XA</td>\n",
       "      <td>200</td>\n",
       "      <td>3</td>\n",
       "      <td>29</td>\n",
       "      <td>46</td>\n",
       "      <td>65</td>\n",
       "      <td>82</td>\n",
       "      <td>93</td>\n",
       "      <td>108</td>\n",
       "      <td>116</td>\n",
       "      <td>125</td>\n",
       "      <td>131</td>\n",
       "      <td>146</td>\n",
       "      <td>0.066135</td>\n",
       "      <td>0.015</td>\n",
       "    </tr>\n",
       "    <tr>\n",
       "      <th>1</th>\n",
       "      <td>XA+XO</td>\n",
       "      <td>200</td>\n",
       "      <td>35</td>\n",
       "      <td>52</td>\n",
       "      <td>82</td>\n",
       "      <td>94</td>\n",
       "      <td>103</td>\n",
       "      <td>111</td>\n",
       "      <td>120</td>\n",
       "      <td>124</td>\n",
       "      <td>132</td>\n",
       "      <td>139</td>\n",
       "      <td>150</td>\n",
       "      <td>0.224536</td>\n",
       "      <td>0.175</td>\n",
       "    </tr>\n",
       "    <tr>\n",
       "      <th>2</th>\n",
       "      <td>XO</td>\n",
       "      <td>200</td>\n",
       "      <td>98</td>\n",
       "      <td>151</td>\n",
       "      <td>171</td>\n",
       "      <td>178</td>\n",
       "      <td>182</td>\n",
       "      <td>186</td>\n",
       "      <td>188</td>\n",
       "      <td>190</td>\n",
       "      <td>191</td>\n",
       "      <td>194</td>\n",
       "      <td>196</td>\n",
       "      <td>0.601079</td>\n",
       "      <td>0.490</td>\n",
       "    </tr>\n",
       "  </tbody>\n",
       "</table>\n",
       "</div>"
      ],
      "text/plain": [
       "    task  num_test_cases  cc_top_1  cc_top_5  cc_top_10  cc_top_15  cc_top_20  \\\n",
       "0     XA             200         3        29         46         65         82   \n",
       "1  XA+XO             200        35        52         82         94        103   \n",
       "2     XO             200        98       151        171        178        182   \n",
       "\n",
       "   cc_top_25  cc_top_30  cc_top_35  cc_top_40  cc_top_45  cc_top_50       MRR  \\\n",
       "0         93        108        116        125        131        146  0.066135   \n",
       "1        111        120        124        132        139        150  0.224536   \n",
       "2        186        188        190        191        194        196  0.601079   \n",
       "\n",
       "   recall@1  \n",
       "0     0.015  \n",
       "1     0.175  \n",
       "2     0.490  "
      ]
     },
     "metadata": {},
     "output_type": "display_data"
    },
    {
     "name": "stdout",
     "output_type": "stream",
     "text": [
      "rank_testing_Dataset-2_asm2vec_e10\n"
     ]
    },
    {
     "data": {
      "text/plain": [
       "MRR         0.066135\n",
       "recall@1       0.015\n",
       "Name: 0, dtype: object"
      ]
     },
     "metadata": {},
     "output_type": "display_data"
    },
    {
     "data": {
      "text/plain": [
       "MRR         0.224536\n",
       "recall@1       0.175\n",
       "Name: 1, dtype: object"
      ]
     },
     "metadata": {},
     "output_type": "display_data"
    },
    {
     "data": {
      "text/plain": [
       "MRR         0.601079\n",
       "recall@1        0.49\n",
       "Name: 2, dtype: object"
      ]
     },
     "metadata": {},
     "output_type": "display_data"
    },
    {
     "name": "stdout",
     "output_type": "stream",
     "text": [
      "\n",
      "\n",
      "Processing pos_rank_testing_Dataset-2_IMM:0.00_MNEM:0.00_GRAPH:1.00.csv\n",
      "0.6206770833333334 0.5493744791666667\n"
     ]
    },
    {
     "data": {
      "text/html": [
       "<div>\n",
       "<style scoped>\n",
       "    .dataframe tbody tr th:only-of-type {\n",
       "        vertical-align: middle;\n",
       "    }\n",
       "\n",
       "    .dataframe tbody tr th {\n",
       "        vertical-align: top;\n",
       "    }\n",
       "\n",
       "    .dataframe thead th {\n",
       "        text-align: right;\n",
       "    }\n",
       "</style>\n",
       "<table border=\"1\" class=\"dataframe\">\n",
       "  <thead>\n",
       "    <tr style=\"text-align: right;\">\n",
       "      <th></th>\n",
       "      <th>task</th>\n",
       "      <th>num_test_cases</th>\n",
       "      <th>cc_top_1</th>\n",
       "      <th>cc_top_5</th>\n",
       "      <th>cc_top_10</th>\n",
       "      <th>cc_top_15</th>\n",
       "      <th>cc_top_20</th>\n",
       "      <th>cc_top_25</th>\n",
       "      <th>cc_top_30</th>\n",
       "      <th>cc_top_35</th>\n",
       "      <th>cc_top_40</th>\n",
       "      <th>cc_top_45</th>\n",
       "      <th>cc_top_50</th>\n",
       "      <th>MRR</th>\n",
       "      <th>recall@1</th>\n",
       "    </tr>\n",
       "  </thead>\n",
       "  <tbody>\n",
       "    <tr>\n",
       "      <th>0</th>\n",
       "      <td>XA</td>\n",
       "      <td>200</td>\n",
       "      <td>51</td>\n",
       "      <td>90</td>\n",
       "      <td>106</td>\n",
       "      <td>128</td>\n",
       "      <td>142</td>\n",
       "      <td>148</td>\n",
       "      <td>159</td>\n",
       "      <td>165</td>\n",
       "      <td>169</td>\n",
       "      <td>172</td>\n",
       "      <td>175</td>\n",
       "      <td>0.346323</td>\n",
       "      <td>0.255</td>\n",
       "    </tr>\n",
       "    <tr>\n",
       "      <th>1</th>\n",
       "      <td>XA+XO</td>\n",
       "      <td>200</td>\n",
       "      <td>51</td>\n",
       "      <td>79</td>\n",
       "      <td>103</td>\n",
       "      <td>116</td>\n",
       "      <td>129</td>\n",
       "      <td>136</td>\n",
       "      <td>144</td>\n",
       "      <td>152</td>\n",
       "      <td>157</td>\n",
       "      <td>163</td>\n",
       "      <td>168</td>\n",
       "      <td>0.318266</td>\n",
       "      <td>0.255</td>\n",
       "    </tr>\n",
       "    <tr>\n",
       "      <th>2</th>\n",
       "      <td>XO</td>\n",
       "      <td>200</td>\n",
       "      <td>35</td>\n",
       "      <td>75</td>\n",
       "      <td>98</td>\n",
       "      <td>108</td>\n",
       "      <td>123</td>\n",
       "      <td>133</td>\n",
       "      <td>141</td>\n",
       "      <td>151</td>\n",
       "      <td>156</td>\n",
       "      <td>160</td>\n",
       "      <td>165</td>\n",
       "      <td>0.262012</td>\n",
       "      <td>0.175</td>\n",
       "    </tr>\n",
       "  </tbody>\n",
       "</table>\n",
       "</div>"
      ],
      "text/plain": [
       "    task  num_test_cases  cc_top_1  cc_top_5  cc_top_10  cc_top_15  cc_top_20  \\\n",
       "0     XA             200        51        90        106        128        142   \n",
       "1  XA+XO             200        51        79        103        116        129   \n",
       "2     XO             200        35        75         98        108        123   \n",
       "\n",
       "   cc_top_25  cc_top_30  cc_top_35  cc_top_40  cc_top_45  cc_top_50       MRR  \\\n",
       "0        148        159        165        169        172        175  0.346323   \n",
       "1        136        144        152        157        163        168  0.318266   \n",
       "2        133        141        151        156        160        165  0.262012   \n",
       "\n",
       "   recall@1  \n",
       "0     0.255  \n",
       "1     0.255  \n",
       "2     0.175  "
      ]
     },
     "metadata": {},
     "output_type": "display_data"
    },
    {
     "name": "stdout",
     "output_type": "stream",
     "text": [
      "rank_testing_Dataset-2_IMM:0.00_MNEM:0.00_GRAPH:1.00\n"
     ]
    },
    {
     "data": {
      "text/plain": [
       "MRR         0.346323\n",
       "recall@1       0.255\n",
       "Name: 0, dtype: object"
      ]
     },
     "metadata": {},
     "output_type": "display_data"
    },
    {
     "data": {
      "text/plain": [
       "MRR         0.318266\n",
       "recall@1       0.255\n",
       "Name: 1, dtype: object"
      ]
     },
     "metadata": {},
     "output_type": "display_data"
    },
    {
     "data": {
      "text/plain": [
       "MRR         0.262012\n",
       "recall@1       0.175\n",
       "Name: 2, dtype: object"
      ]
     },
     "metadata": {},
     "output_type": "display_data"
    },
    {
     "name": "stdout",
     "output_type": "stream",
     "text": [
      "\n",
      "\n",
      "Processing pos_rank_testing_Dataset-2_pvdbow_e10.csv\n",
      "0.3947160890936025 0.26665465302400787\n"
     ]
    },
    {
     "data": {
      "text/html": [
       "<div>\n",
       "<style scoped>\n",
       "    .dataframe tbody tr th:only-of-type {\n",
       "        vertical-align: middle;\n",
       "    }\n",
       "\n",
       "    .dataframe tbody tr th {\n",
       "        vertical-align: top;\n",
       "    }\n",
       "\n",
       "    .dataframe thead th {\n",
       "        text-align: right;\n",
       "    }\n",
       "</style>\n",
       "<table border=\"1\" class=\"dataframe\">\n",
       "  <thead>\n",
       "    <tr style=\"text-align: right;\">\n",
       "      <th></th>\n",
       "      <th>task</th>\n",
       "      <th>num_test_cases</th>\n",
       "      <th>cc_top_1</th>\n",
       "      <th>cc_top_5</th>\n",
       "      <th>cc_top_10</th>\n",
       "      <th>cc_top_15</th>\n",
       "      <th>cc_top_20</th>\n",
       "      <th>cc_top_25</th>\n",
       "      <th>cc_top_30</th>\n",
       "      <th>cc_top_35</th>\n",
       "      <th>cc_top_40</th>\n",
       "      <th>cc_top_45</th>\n",
       "      <th>cc_top_50</th>\n",
       "      <th>MRR</th>\n",
       "      <th>recall@1</th>\n",
       "    </tr>\n",
       "  </thead>\n",
       "  <tbody>\n",
       "    <tr>\n",
       "      <th>0</th>\n",
       "      <td>XA</td>\n",
       "      <td>200</td>\n",
       "      <td>6</td>\n",
       "      <td>27</td>\n",
       "      <td>38</td>\n",
       "      <td>56</td>\n",
       "      <td>66</td>\n",
       "      <td>86</td>\n",
       "      <td>103</td>\n",
       "      <td>118</td>\n",
       "      <td>126</td>\n",
       "      <td>145</td>\n",
       "      <td>153</td>\n",
       "      <td>0.072512</td>\n",
       "      <td>0.030</td>\n",
       "    </tr>\n",
       "    <tr>\n",
       "      <th>1</th>\n",
       "      <td>XA+XO</td>\n",
       "      <td>200</td>\n",
       "      <td>39</td>\n",
       "      <td>53</td>\n",
       "      <td>73</td>\n",
       "      <td>85</td>\n",
       "      <td>98</td>\n",
       "      <td>111</td>\n",
       "      <td>123</td>\n",
       "      <td>132</td>\n",
       "      <td>138</td>\n",
       "      <td>146</td>\n",
       "      <td>154</td>\n",
       "      <td>0.229296</td>\n",
       "      <td>0.195</td>\n",
       "    </tr>\n",
       "    <tr>\n",
       "      <th>2</th>\n",
       "      <td>XO</td>\n",
       "      <td>200</td>\n",
       "      <td>100</td>\n",
       "      <td>159</td>\n",
       "      <td>176</td>\n",
       "      <td>182</td>\n",
       "      <td>188</td>\n",
       "      <td>189</td>\n",
       "      <td>190</td>\n",
       "      <td>193</td>\n",
       "      <td>195</td>\n",
       "      <td>196</td>\n",
       "      <td>197</td>\n",
       "      <td>0.625468</td>\n",
       "      <td>0.500</td>\n",
       "    </tr>\n",
       "  </tbody>\n",
       "</table>\n",
       "</div>"
      ],
      "text/plain": [
       "    task  num_test_cases  cc_top_1  cc_top_5  cc_top_10  cc_top_15  cc_top_20  \\\n",
       "0     XA             200         6        27         38         56         66   \n",
       "1  XA+XO             200        39        53         73         85         98   \n",
       "2     XO             200       100       159        176        182        188   \n",
       "\n",
       "   cc_top_25  cc_top_30  cc_top_35  cc_top_40  cc_top_45  cc_top_50       MRR  \\\n",
       "0         86        103        118        126        145        153  0.072512   \n",
       "1        111        123        132        138        146        154  0.229296   \n",
       "2        189        190        193        195        196        197  0.625468   \n",
       "\n",
       "   recall@1  \n",
       "0     0.030  \n",
       "1     0.195  \n",
       "2     0.500  "
      ]
     },
     "metadata": {},
     "output_type": "display_data"
    },
    {
     "name": "stdout",
     "output_type": "stream",
     "text": [
      "rank_testing_Dataset-2_pvdbow_e10\n"
     ]
    },
    {
     "data": {
      "text/plain": [
       "MRR         0.072512\n",
       "recall@1        0.03\n",
       "Name: 0, dtype: object"
      ]
     },
     "metadata": {},
     "output_type": "display_data"
    },
    {
     "data": {
      "text/plain": [
       "MRR         0.229296\n",
       "recall@1       0.195\n",
       "Name: 1, dtype: object"
      ]
     },
     "metadata": {},
     "output_type": "display_data"
    },
    {
     "data": {
      "text/plain": [
       "MRR         0.625468\n",
       "recall@1         0.5\n",
       "Name: 2, dtype: object"
      ]
     },
     "metadata": {},
     "output_type": "display_data"
    },
    {
     "name": "stdout",
     "output_type": "stream",
     "text": [
      "\n",
      "\n"
     ]
    }
   ],
   "source": [
    "RESULTS_DIR = \"../data/Dataset-2/\"\n",
    "OUTPUT_DIR = \"_output/Dataset-2/\"\n",
    "\n",
    "global_results_tc0 = dict()\n",
    "global_results_tc1 = dict()\n",
    "global_results_tc2 = dict()\n",
    "\n",
    "mrr_recall_tc0 = dict()\n",
    "mrr_recall_tc1 = dict()\n",
    "mrr_recall_tc2 = dict()\n",
    "\n",
    "for csv_file in os.listdir(RESULTS_DIR):\n",
    "    if (not csv_file.endswith(\".csv\")) or \\\n",
    "        (not csv_file.startswith(\"pos_\")) or \\\n",
    "            (not \"_rank_\" in csv_file):\n",
    "        continue\n",
    "\n",
    "    print(\"Processing {}\".format(csv_file))\n",
    "\n",
    "    # Load data\n",
    "    df_pos_ranking_input = pd.read_csv(\n",
    "        os.path.join(RESULTS_DIR, csv_file))\n",
    "\n",
    "    df_neg_ranking_input = pd.read_csv(\n",
    "        os.path.join(RESULTS_DIR, csv_file.replace(\"pos_\", \"neg_\")))\n",
    "\n",
    "    if 'cs' not in set(df_pos_ranking_input.columns):\n",
    "        df_pos_ranking_input.rename(columns={'sim': 'cs'}, inplace=True)\n",
    "        df_neg_ranking_input.rename(columns={'sim': 'cs'}, inplace=True)\n",
    "\n",
    "    # Plot the similarity values\n",
    "    print(\n",
    "        df_pos_ranking_input['cs'].mean(),\n",
    "        df_neg_ranking_input['cs'].mean())\n",
    "\n",
    "    # display(df_pos_ranking_input['cs'].hist(bins=200, range=[-10, 0]))\n",
    "    # display(df_neg_ranking_input['cs'].hist(bins=200, alpha=0.8, range=[-10, 0]))\n",
    "    # plt.show()\n",
    "\n",
    "    # Check that similarity values are not 0\n",
    "    assert(df_pos_ranking_input.isna().sum()['cs'] == 0)\n",
    "    assert(df_neg_ranking_input.isna().sum()['cs'] == 0)\n",
    "\n",
    "    rank_df = compute_ranking_metrics(df_pos_ranking_input, df_neg_ranking_input)\n",
    "    key = csv_file.replace(\"pos_\", \"\").replace(\"neg_\", \"\").replace(\".csv\", \"\")\n",
    "\n",
    "    global_results_tc0[key] = list(rank_df.loc[0][3:-1].values)\n",
    "    global_results_tc1[key] = list(rank_df.loc[1][3:-1].values)\n",
    "    global_results_tc2[key] = list(rank_df.loc[2][3:-1].values)\n",
    "\n",
    "    rank_df[\"recall@1\"] = rank_df['cc_top_1']/200\n",
    "    display(rank_df)\n",
    "\n",
    "    mrr_recall_tc0[key] = list(rank_df.loc[0][['MRR', \"recall@1\"]])\n",
    "    mrr_recall_tc1[key] = list(rank_df.loc[1][['MRR', \"recall@1\"]])\n",
    "    mrr_recall_tc2[key] = list(rank_df.loc[2][['MRR', \"recall@1\"]])\n",
    "\n",
    "    print(key)\n",
    "    display(rank_df.loc[0][['MRR', \"recall@1\"]])\n",
    "    display(rank_df.loc[1][['MRR', \"recall@1\"]])\n",
    "    display(rank_df.loc[2][['MRR', \"recall@1\"]])\n",
    "\n",
    "    print(\"\\n\")"
   ]
  },
  {
   "cell_type": "code",
   "execution_count": 16,
   "metadata": {
    "scrolled": true
   },
   "outputs": [],
   "source": [
    "df_mrr_recall = pd.DataFrame(mrr_recall_tc0)\n",
    "df_mrr_recall = df_mrr_recall.transpose()\n",
    "df_mrr_recall = df_mrr_recall.rename(columns={0:\"MRR\", 1:\"recall@1\"})\n",
    "df_mrr_recall.to_csv(os.path.join(OUTPUT_DIR, \"df_mrr_recall_tc1.csv\"))\n",
    "\n",
    "df_mrr_recall = pd.DataFrame(mrr_recall_tc1)\n",
    "df_mrr_recall = df_mrr_recall.transpose()\n",
    "df_mrr_recall = df_mrr_recall.rename(columns={0:\"MRR\", 1:\"recall@1\"})\n",
    "df_mrr_recall.to_csv(os.path.join(OUTPUT_DIR, \"df_mrr_recall_tc2.csv\"))\n",
    "\n",
    "df_mrr_recall = pd.DataFrame(mrr_recall_tc2)\n",
    "df_mrr_recall = df_mrr_recall.transpose()\n",
    "df_mrr_recall = df_mrr_recall.rename(columns={0:\"MRR\", 1:\"recall@1\"})\n",
    "df_mrr_recall.to_csv(os.path.join(OUTPUT_DIR, \"df_mrr_recall_tc3.csv\"))\n",
    "\n",
    "df_rank = pd.DataFrame(global_results_tc0)/200\n",
    "df_rank.index = [(x+1) * 5 for x in df_rank.index]\n",
    "df_rank.to_csv(os.path.join(OUTPUT_DIR, \"df_rank_tc1.csv\"))\n",
    "\n",
    "df_rank = pd.DataFrame(global_results_tc1)/200\n",
    "df_rank.index = [(x+1) * 5 for x in df_rank.index]\n",
    "df_rank.to_csv(os.path.join(OUTPUT_DIR, \"df_rank_tc2.csv\"))\n",
    "\n",
    "df_rank = pd.DataFrame(global_results_tc2)/200\n",
    "df_rank.index = [(x+1) * 5 for x in df_rank.index]\n",
    "df_rank.to_csv(os.path.join(OUTPUT_DIR, \"df_rank_tc3.csv\"))"
   ]
  },
  {
   "cell_type": "markdown",
   "metadata": {},
   "source": [
    "## AUC"
   ]
  },
  {
   "cell_type": "code",
   "execution_count": 17,
   "metadata": {
    "scrolled": false
   },
   "outputs": [],
   "source": [
    "base_path = \"../../DBs/Dataset-2/pairs/\"\n",
    "\n",
    "df_pos_testing = pd.read_csv(\n",
    "    os.path.join(base_path, \"pos_testing_Dataset-2.csv\"),\n",
    "    index_col=0)\n",
    "\n",
    "df_neg_testing = pd.read_csv(\n",
    "    os.path.join(base_path, \"neg_testing_Dataset-2.csv\"),\n",
    "    index_col=0)\n",
    "\n",
    "global_results = list()\n",
    "\n",
    "for csv_file in os.listdir(RESULTS_DIR):\n",
    "    if (not csv_file.endswith(\".csv\")) or \\\n",
    "        (not \"df_pos\" in csv_file) or \\\n",
    "        (\"rank\" in csv_file):\n",
    "        continue\n",
    "\n",
    "    print(\"Processing {}\".format(csv_file))\n",
    "\n",
    "    df_pos_test = pd.read_csv(\n",
    "        os.path.join(RESULTS_DIR, csv_file),\n",
    "        index_col=0)\n",
    "\n",
    "    df_neg_test = pd.read_csv(\n",
    "        os.path.join(RESULTS_DIR, csv_file.replace(\"df_pos\", \"df_neg\")),\n",
    "        index_col=0)\n",
    "    \n",
    "    if 'cs' not in set(df_pos_test.columns):\n",
    "        df_pos_test.rename(columns={'sim':'cs'}, inplace=True)\n",
    "        df_neg_test.rename(columns={'sim':'cs'}, inplace=True)\n",
    "\n",
    "    if 'db_type' in df_pos_test.columns:\n",
    "        del df_pos_test['db_type']\n",
    "\n",
    "    if 'db_type' in df_neg_test.columns:\n",
    "        del df_neg_test['db_type']\n",
    "\n",
    "    # Merge\n",
    "    df_pos_testing_m = process_df(\n",
    "        df_pos_testing, df_pos_test, is_pos=True)\n",
    "    df_neg_testing_m = process_df(\n",
    "        df_neg_testing, df_neg_test, is_pos=False)\n",
    "    \n",
    "#     display(df_pos_test['cs'].hist(bins=200, range=[-2, +2]))\n",
    "#     display(df_neg_test['cs'].hist(bins=200, alpha=0.8, range=[-2, +2]))\n",
    "#     plt.show()\n",
    "\n",
    "    display(df_pos_test['cs'].hist(bins=200))\n",
    "    display(df_neg_test['cs'].hist(bins=200, alpha=0.8))\n",
    "    plt.show()\n",
    "\n",
    "    # Debug\n",
    "    assert(df_pos_testing_m.isna().sum()['cs'] == 0)\n",
    "    assert(df_neg_testing_m.isna().sum()['cs'] == 0)\n",
    "\n",
    "    result_list = list()\n",
    "    \n",
    "    result_list.append(['title', csv_file.replace(\"pos_\", \"\").replace(\"neg_\", \"\").replace(\".csv\", \"\")])\n",
    "\n",
    "    ll = plot_roc_values(df_pos_testing_m, df_neg_testing_m, plot=False)\n",
    "    result_list.extend(ll)\n",
    "    print(\"\\n\")\n",
    "\n",
    "    global_results.append(result_list)\n"
   ]
  },
  {
   "cell_type": "code",
   "execution_count": 18,
   "metadata": {},
   "outputs": [
    {
     "ename": "IndexError",
     "evalue": "index 1 is out of bounds for axis 0 with size 0",
     "output_type": "error",
     "traceback": [
      "\u001b[0;31m---------------------------------------------------------------------------\u001b[0m",
      "\u001b[0;31mIndexError\u001b[0m                                Traceback (most recent call last)",
      "Input \u001b[0;32mIn [18]\u001b[0m, in \u001b[0;36m<cell line: 12>\u001b[0;34m()\u001b[0m\n\u001b[1;32m     10\u001b[0m         pd_temp_dict[c]\u001b[38;5;241m.\u001b[39mappend(v)\n\u001b[1;32m     11\u001b[0m df_auc \u001b[38;5;241m=\u001b[39m pd\u001b[38;5;241m.\u001b[39mDataFrame\u001b[38;5;241m.\u001b[39mfrom_dict(pd_temp_dict)\n\u001b[1;32m     12\u001b[0m df_auc \u001b[38;5;241m=\u001b[39m df_auc\u001b[38;5;241m.\u001b[39mrename(columns\u001b[38;5;241m=\u001b[39m{\u001b[38;5;124m\"\u001b[39m\u001b[38;5;124mtitle\u001b[39m\u001b[38;5;124m\"\u001b[39m:\u001b[38;5;124m\"\u001b[39m\u001b[38;5;124mmodel_name\u001b[39m\u001b[38;5;124m\"\u001b[39m,\n\u001b[0;32m---> 13\u001b[0m                                 \u001b[43mdf_auc\u001b[49m\u001b[38;5;241;43m.\u001b[39;49m\u001b[43mcolumns\u001b[49m\u001b[43m[\u001b[49m\u001b[38;5;241;43m1\u001b[39;49m\u001b[43m]\u001b[49m:\u001b[38;5;124m\"\u001b[39m\u001b[38;5;124mAUC X-OPT\u001b[39m\u001b[38;5;124m\"\u001b[39m,\n\u001b[1;32m     14\u001b[0m                                 df_auc\u001b[38;5;241m.\u001b[39mcolumns[\u001b[38;5;241m2\u001b[39m]:\u001b[38;5;124m\"\u001b[39m\u001b[38;5;124mX-ARCH\u001b[39m\u001b[38;5;124m\"\u001b[39m,\n\u001b[1;32m     15\u001b[0m                                 df_auc\u001b[38;5;241m.\u001b[39mcolumns[\u001b[38;5;241m3\u001b[39m]:\u001b[38;5;124m\"\u001b[39m\u001b[38;5;124mX-MIXED\u001b[39m\u001b[38;5;124m\"\u001b[39m})\n\u001b[1;32m     16\u001b[0m display(df_auc)\n\u001b[1;32m     17\u001b[0m df_auc\u001b[38;5;241m.\u001b[39mto_csv(os\u001b[38;5;241m.\u001b[39mpath\u001b[38;5;241m.\u001b[39mjoin(OUTPUT_DIR, \u001b[38;5;124m\"\u001b[39m\u001b[38;5;124mdf_auc.csv\u001b[39m\u001b[38;5;124m\"\u001b[39m))\n",
      "File \u001b[0;32m/opt/homebrew/lib/python3.9/site-packages/pandas/core/indexes/base.py:5039\u001b[0m, in \u001b[0;36mIndex.__getitem__\u001b[0;34m(self, key)\u001b[0m\n\u001b[1;32m   5036\u001b[0m \u001b[38;5;28;01mif\u001b[39;00m is_integer(key) \u001b[38;5;129;01mor\u001b[39;00m is_float(key):\n\u001b[1;32m   5037\u001b[0m     \u001b[38;5;66;03m# GH#44051 exclude bool, which would return a 2d ndarray\u001b[39;00m\n\u001b[1;32m   5038\u001b[0m     key \u001b[38;5;241m=\u001b[39m com\u001b[38;5;241m.\u001b[39mcast_scalar_indexer(key, warn_float\u001b[38;5;241m=\u001b[39m\u001b[38;5;28;01mTrue\u001b[39;00m)\n\u001b[0;32m-> 5039\u001b[0m     \u001b[38;5;28;01mreturn\u001b[39;00m \u001b[43mgetitem\u001b[49m\u001b[43m(\u001b[49m\u001b[43mkey\u001b[49m\u001b[43m)\u001b[49m\n\u001b[1;32m   5041\u001b[0m \u001b[38;5;28;01mif\u001b[39;00m \u001b[38;5;28misinstance\u001b[39m(key, \u001b[38;5;28mslice\u001b[39m):\n\u001b[1;32m   5042\u001b[0m     \u001b[38;5;66;03m# This case is separated from the conditional above to avoid\u001b[39;00m\n\u001b[1;32m   5043\u001b[0m     \u001b[38;5;66;03m# pessimization com.is_bool_indexer and ndim checks.\u001b[39;00m\n\u001b[1;32m   5044\u001b[0m     result \u001b[38;5;241m=\u001b[39m getitem(key)\n",
      "\u001b[0;31mIndexError\u001b[0m: index 1 is out of bounds for axis 0 with size 0"
     ]
    }
   ],
   "source": [
    "pd_temp_dict = defaultdict(list)\n",
    "for xr in global_results:\n",
    "    columns_set = set()\n",
    "    columns = [x[0].replace(' - all', '') for x in xr]\n",
    "    values = [x[1].replace(' - all', '') for x in xr]\n",
    "    for c, v in zip(columns, values):\n",
    "        if c in columns_set:\n",
    "            continue\n",
    "        columns_set.add(c)\n",
    "        pd_temp_dict[c].append(v)\n",
    "df_auc = pd.DataFrame.from_dict(pd_temp_dict)\n",
    "df_auc = df_auc.rename(columns={\"title\":\"model_name\",\n",
    "                                df_auc.columns[1]:\"AUC X-OPT\",\n",
    "                                df_auc.columns[2]:\"X-ARCH\",\n",
    "                                df_auc.columns[3]:\"X-MIXED\"})\n",
    "display(df_auc)\n",
    "df_auc.to_csv(os.path.join(OUTPUT_DIR, \"df_auc.csv\"))"
   ]
  },
  {
   "cell_type": "code",
   "execution_count": null,
   "metadata": {},
   "outputs": [],
   "source": []
  }
 ],
 "metadata": {
  "kernelspec": {
   "display_name": "Python 3 (ipykernel)",
   "language": "python",
   "name": "python3"
  },
  "language_info": {
   "codemirror_mode": {
    "name": "ipython",
    "version": 3
   },
   "file_extension": ".py",
   "mimetype": "text/x-python",
   "name": "python",
   "nbconvert_exporter": "python",
   "pygments_lexer": "ipython3",
   "version": "3.9.12"
  }
 },
 "nbformat": 4,
 "nbformat_minor": 2
}
