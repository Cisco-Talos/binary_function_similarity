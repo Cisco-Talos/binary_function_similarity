{
 "cells": [
  {
   "cell_type": "code",
   "execution_count": 1,
   "metadata": {},
   "outputs": [],
   "source": [
    "import networkx as nx"
   ]
  },
  {
   "cell_type": "code",
   "execution_count": 2,
   "metadata": {},
   "outputs": [
    {
     "data": {
      "text/plain": [
       "'2.3'"
      ]
     },
     "execution_count": 2,
     "metadata": {},
     "output_type": "execute_result"
    }
   ],
   "source": [
    "nx.__version__"
   ]
  },
  {
   "cell_type": "code",
   "execution_count": 3,
   "metadata": {},
   "outputs": [],
   "source": [
    "import pickle"
   ]
  },
  {
   "cell_type": "markdown",
   "metadata": {},
   "source": [
    "## Check the first pickle file"
   ]
  },
  {
   "cell_type": "code",
   "execution_count": 5,
   "metadata": {},
   "outputs": [],
   "source": [
    "p1 = pickle.load(open(\"BinaryAI example/builds_clamav_clamav_arm64-gcc-4.8-O0_clamconf.i64_codeCMR.pkl\", \"rb\"))"
   ]
  },
  {
   "cell_type": "code",
   "execution_count": 6,
   "metadata": {},
   "outputs": [
    {
     "data": {
      "text/plain": [
       "dict_keys(['countlines', 'match_regex', 'optadditem'])"
      ]
     },
     "execution_count": 6,
     "metadata": {},
     "output_type": "execute_result"
    }
   ],
   "source": [
    "p1.keys()"
   ]
  },
  {
   "cell_type": "code",
   "execution_count": 7,
   "metadata": {},
   "outputs": [],
   "source": [
    "G = p1['countlines']"
   ]
  },
  {
   "cell_type": "code",
   "execution_count": 10,
   "metadata": {},
   "outputs": [
    {
     "data": {
      "text/plain": [
       "dict_keys(['c_state', 'c_expr', 'c_int', 'c_str', 'm_int', 'arg_num', 'func_bytes', 'hash', 'arch', 'name', 'file', 'pseudocode'])"
      ]
     },
     "execution_count": 10,
     "metadata": {},
     "output_type": "execute_result"
    }
   ],
   "source": [
    "G.graph.keys()"
   ]
  },
  {
   "cell_type": "code",
   "execution_count": 11,
   "metadata": {},
   "outputs": [
    {
     "data": {
      "text/plain": [
       "[71, 72, 72, 73, 71, 80, 75, 71, 73, 71, 72, 72, 80]"
      ]
     },
     "execution_count": 11,
     "metadata": {},
     "output_type": "execute_result"
    }
   ],
   "source": [
    "G.graph['c_state']"
   ]
  },
  {
   "cell_type": "code",
   "execution_count": 13,
   "metadata": {},
   "outputs": [
    {
     "data": {
      "text/plain": [
       "[0, 0, 0, 35, 1024]"
      ]
     },
     "execution_count": 13,
     "metadata": {},
     "output_type": "execute_result"
    }
   ],
   "source": [
    "G.graph['c_int']"
   ]
  },
  {
   "cell_type": "code",
   "execution_count": 15,
   "metadata": {},
   "outputs": [
    {
     "data": {
      "text/plain": [
       "[]"
      ]
     },
     "execution_count": 15,
     "metadata": {},
     "output_type": "execute_result"
    }
   ],
   "source": [
    "G.graph['c_str']"
   ]
  },
  {
   "cell_type": "code",
   "execution_count": 16,
   "metadata": {},
   "outputs": [
    {
     "data": {
      "text/plain": [
       "[0, 0, 0, 35, 1, 0]"
      ]
     },
     "execution_count": 16,
     "metadata": {},
     "output_type": "execute_result"
    }
   ],
   "source": [
    "G.graph['m_int']"
   ]
  },
  {
   "cell_type": "code",
   "execution_count": 17,
   "metadata": {},
   "outputs": [
    {
     "data": {
      "text/plain": [
       "1"
      ]
     },
     "execution_count": 17,
     "metadata": {},
     "output_type": "execute_result"
    }
   ],
   "source": [
    "G.graph['arg_num']"
   ]
  },
  {
   "cell_type": "code",
   "execution_count": 18,
   "metadata": {},
   "outputs": [
    {
     "data": {
      "text/plain": [
       "'ffc310d1fd7bbea9fd030091f30b00f9a1a30091200000f9000100f000403791000040f9a02702f9a0f300911f0000b9b3030191a0a30091810000b021a03691000040f917ebff97600200f9a0030191000040f91f001feb61000054000080521c0000140f000014a0230191000040391f8c0071c1000054a0f30091a1f30091210040b9010000b906000014a0f30091a1f30091210040b921040011010000b9a0230191a203019101808052420040f9b0ebff971f001feb81fdff54a0030191000040f9efeaff97a0f30091000040b9010100f021403791a22742f9210040f95f0001eb400000542eebff97f30b40f9fd7bc2a8ffc31091c0035fd6'"
      ]
     },
     "execution_count": 18,
     "metadata": {},
     "output_type": "execute_result"
    }
   ],
   "source": [
    "G.graph['func_bytes']"
   ]
  },
  {
   "cell_type": "code",
   "execution_count": 20,
   "metadata": {},
   "outputs": [
    {
     "name": "stdout",
     "output_type": "stream",
     "text": [
      "__int64 __fastcall countlines(const char *a1)\n",
      "{\n",
      "  unsigned int v2; // [xsp+3Ch] [xbp+3Ch]\n",
      "  FILE *v3; // [xsp+40h] [xbp+40h]\n",
      "  char v4[1024]; // [xsp+48h] [xbp+48h] BYREF\n",
      "\n",
      "  v2 = 0;\n",
      "  v3 = fopen(a1, \"r\");\n",
      "  if ( !v3 )\n",
      "    return 0LL;\n",
      "  while ( fgets(v4, 1024, v3) )\n",
      "  {\n",
      "    if ( v4[0] != 35 )\n",
      "      ++v2;\n",
      "  }\n",
      "  fclose(v3);\n",
      "  return v2;\n",
      "}\n",
      "\n"
     ]
    }
   ],
   "source": [
    "print(G.graph['pseudocode'])"
   ]
  },
  {
   "cell_type": "markdown",
   "metadata": {},
   "source": [
    "## Check the other pickle file"
   ]
  },
  {
   "cell_type": "code",
   "execution_count": 22,
   "metadata": {},
   "outputs": [],
   "source": [
    "p2 = pickle.load(open(\"BinaryAI example/builds_unrar_unrar_x64-gcc-4.8-O1_unrar.i64_codeCMR.pkl\", \"rb\"))"
   ]
  },
  {
   "cell_type": "code",
   "execution_count": 23,
   "metadata": {
    "scrolled": true
   },
   "outputs": [
    {
     "data": {
      "text/plain": [
       "dict_keys(['_Z14MakeNameUsablePcb', '_Z12SetExtraInfoP11CommandDataR7ArchivePw', '_ZN6Unpack7ShortLZEv', '_ZN7RSCoder6EncodeEPhiS0_', '_Z7CmpNamePKwS0_i', '_ZL16blake2s_compressP13blake2s_statePKh', '_ZN11CommandData12CheckWinSizeEv', '_ZN7Archive9IsArchiveEb', '_ZN7Archive11ReadSubDataEP5ArrayIhEP4File', '_Z7mprintfPKwz', '_ZN11CommandData8OutTitleEv', '_ZN6Unpack8Unpack15Eb', '_ZN6Unpack10ReadVMCodeEv', '_Z8RemoveLFPw', '_Z12MergeArchiveR7ArchiveP11ComprDataIObw', '_ZN8FindFile4NextEP8FindDatab', '_ZN9RSCoder1617MakeEncoderMatrixEv', '_ZN9RSCoder1619InvertDecoderMatrixEv', '_Z11ListArchiveP11CommandData', '_ZN7Archive18RequestArcPasswordEv', '_ZN16FragmentedWindow5ResetEv', '_ZN7Archive15ConvertNameCaseEPw', '_ZN6Unpack13UnpWriteBuf30Ev', '_Z10wcscasestrPKwS0_', '_ZN8ModelPPM10DecodeInitEP6UnpackRi', '_Z18ExtractUnixOwner20R7ArchivePKw', '_ZN11CommandData10ReadConfigEv', '_Z16ConvertHashToMACP9HashValuePh', '_ZN7Archive11SearchBlockE11HEADER_TYPE', '_ZN9HashValueeqERKS_', '_ZN6Unpack13ReadVMCodePPMEv', '_ZN8ModelPPM14StartModelRareEi', '_ZN10uiMsgStore3MsgEv', '_Z9RemoveEOLPw', '_ZN8ScanTreeD2Ev'])"
      ]
     },
     "execution_count": 23,
     "metadata": {},
     "output_type": "execute_result"
    }
   ],
   "source": [
    "p2.keys()"
   ]
  },
  {
   "cell_type": "code",
   "execution_count": 24,
   "metadata": {},
   "outputs": [],
   "source": [
    "G = p2['_Z14MakeNameUsablePcb']"
   ]
  },
  {
   "cell_type": "code",
   "execution_count": 27,
   "metadata": {},
   "outputs": [
    {
     "name": "stdout",
     "output_type": "stream",
     "text": [
      "void __fastcall MakeNameUsable(char *a1, char a2)\n",
      "{\n",
      "  char *v2; // rbx\n",
      "  char i; // bp\n",
      "\n",
      "  v2 = a1;\n",
      "  for ( i = *a1; *v2; i = *++v2 )\n",
      "  {\n",
      "    if ( a2 )\n",
      "    {\n",
      "      if ( !strchr(\"?*<>|\\\"\", i) && (unsigned __int8)i > 0x1Fu )\n",
      "        continue;\n",
      "    }\n",
      "    else if ( !strchr(\"?*\", i) )\n",
      "    {\n",
      "      continue;\n",
      "    }\n",
      "    *v2 = 95;\n",
      "  }\n",
      "}\n",
      "\n"
     ]
    }
   ],
   "source": [
    "print(G.graph['pseudocode'])"
   ]
  }
 ],
 "metadata": {
  "kernelspec": {
   "display_name": "Python 3 (ipykernel)",
   "language": "python",
   "name": "python3"
  },
  "language_info": {
   "codemirror_mode": {
    "name": "ipython",
    "version": 3
   },
   "file_extension": ".py",
   "mimetype": "text/x-python",
   "name": "python",
   "nbconvert_exporter": "python",
   "pygments_lexer": "ipython3",
   "version": "3.9.12"
  }
 },
 "nbformat": 4,
 "nbformat_minor": 2
}
